{
 "cells": [
  {
   "cell_type": "markdown",
   "id": "f0fa0226",
   "metadata": {},
   "source": [
    "# Python Set Complete Guide\n",
    "\n",
    "## What is a Set?\n",
    "\n",
    "Python lists are one of the most fundamental and versatile data structures in Python. They are ordered collections that can store multiple items of any data type and are mutable, meaning you can change them after creation.\n",
    "\n"
   ]
  },
  {
   "cell_type": "code",
   "execution_count": null,
   "id": "4558beec",
   "metadata": {},
   "outputs": [],
   "source": [
    "\n",
    "\n",
    "## Creating Lists\n",
    "\n",
    "### Empty Lists\n",
    "\n",
    "# Method 1: Using square brackets\n",
    "empty_list = []\n",
    "\n",
    "# Method 2: Using list() constructor\n",
    "empty_list = list()\n",
    "\n",
    "\n"
   ]
  },
  {
   "cell_type": "code",
   "execution_count": null,
   "id": "c94c1060",
   "metadata": {},
   "outputs": [],
   "source": [
    "\n",
    "### Lists with Initial Values\n",
    "\n",
    "# Numbers\n",
    "numbers = [1, 2, 3, 4, 5]\n",
    "\n",
    "# Mixed data types\n",
    "mixed = [1, \"hello\", 3.14, True, None]\n",
    "\n",
    "# Nested lists\n",
    "nested = [[1, 2], [3, 4], [5, 6]]\n",
    "\n",
    "# Using list() with iterable\n",
    "from_string = list(\"hello\")  # ['h', 'e', 'l', 'l', 'o']\n",
    "from_range = list(range(5))  # [0, 1, 2, 3, 4]\n"
   ]
  },
  {
   "cell_type": "code",
   "execution_count": null,
   "id": "287aa207",
   "metadata": {},
   "outputs": [],
   "source": [
    "\n",
    "## Accessing Elements\n",
    "\n",
    "### Indexing\n",
    "\n",
    "fruits = [\"apple\", \"banana\", \"orange\", \"grape\"]\n",
    "\n",
    "# Positive indexing (starts at 0)\n",
    "first_fruit = fruits[0]     # \"apple\"\n",
    "third_fruit = fruits[2]     # \"orange\"\n",
    "\n",
    "# Negative indexing (starts from end)\n",
    "last_fruit = fruits[-1]     # \"grape\"\n",
    "second_last = fruits[-2]    # \"orange\"\n",
    "\n"
   ]
  },
  {
   "cell_type": "code",
   "execution_count": null,
   "id": "8227a67c",
   "metadata": {},
   "outputs": [],
   "source": [
    "### Slicing\n",
    "\n",
    "numbers = [0, 1, 2, 3, 4, 5, 6, 7, 8, 9]\n",
    "\n",
    "# Basic slicing: list[start:end:step]\n",
    "subset = numbers[2:6]       # [2, 3, 4, 5]\n",
    "first_half = numbers[:5]    # [0, 1, 2, 3, 4]\n",
    "second_half = numbers[5:]   # [5, 6, 7, 8, 9]\n",
    "every_second = numbers[::2] # [0, 2, 4, 6, 8]\n",
    "reversed_list = numbers[::-1] # [9, 8, 7, 6, 5, 4, 3, 2, 1, 0]\n"
   ]
  },
  {
   "cell_type": "code",
   "execution_count": null,
   "id": "528f7231",
   "metadata": {},
   "outputs": [],
   "source": [
    "## List Methods\n",
    "\n",
    "### Adding Elements\n",
    "\n",
    "fruits = [\"apple\", \"banana\"]\n",
    "\n",
    "# append() - Add single element to end\n",
    "fruits.append(\"orange\")\n",
    "# Result: [\"apple\", \"banana\", \"orange\"]\n",
    "\n",
    "# insert() - Add element at specific position\n",
    "fruits.insert(1, \"grape\")\n",
    "# Result: [\"apple\", \"grape\", \"banana\", \"orange\"]\n",
    "\n",
    "# extend() - Add multiple elements\n",
    "fruits.extend([\"kiwi\", \"mango\"])\n",
    "# Result: [\"apple\", \"grape\", \"banana\", \"orange\", \"kiwi\", \"mango\"]\n"
   ]
  },
  {
   "cell_type": "code",
   "execution_count": null,
   "id": "59d898ae",
   "metadata": {},
   "outputs": [],
   "source": [
    "### Removing Elements\n",
    "\n",
    "numbers = [1, 2, 3, 2, 4, 5]\n",
    "\n",
    "# remove() - Remove first occurrence of value\n",
    "numbers.remove(2)\n",
    "# Result: [1, 3, 2, 4, 5]\n",
    "\n",
    "# pop() - Remove and return element at index (default: last)\n",
    "last = numbers.pop()        # Returns 5\n",
    "first = numbers.pop(0)      # Returns 1\n",
    "# Result: [3, 2, 4]\n",
    "\n",
    "# del - Remove element(s) by index or slice\n",
    "del numbers[1]              # Remove element at index 1\n",
    "del numbers[1:3]            # Remove slice\n",
    "\n",
    "# clear() - Remove all elements\n",
    "numbers.clear()             # Result: []\n"
   ]
  },
  {
   "cell_type": "code",
   "execution_count": null,
   "id": "494d9946",
   "metadata": {},
   "outputs": [],
   "source": [
    "### Other Useful Methods\n",
    "\n",
    "numbers = [3, 1, 4, 1, 5, 9, 2, 6]\n",
    "\n",
    "# count() - Count occurrences of value\n",
    "count_ones = numbers.count(1)  # Returns 2\n",
    "\n",
    "# index() - Find index of first occurrence\n",
    "index_of_4 = numbers.index(4)  # Returns 2\n",
    "\n",
    "# reverse() - Reverse list in place\n",
    "numbers.reverse()\n",
    "# Result: [6, 2, 9, 5, 1, 4, 1, 3]\n",
    "\n",
    "# sort() - Sort list in place\n",
    "numbers.sort()\n",
    "# Result: [1, 1, 2, 3, 4, 5, 6, 9]\n",
    "\n",
    "# sort() with parameters\n",
    "words = [\"banana\", \"apple\", \"Cherry\"]\n",
    "words.sort()                    # Case-sensitive: ['Cherry', 'apple', 'banana']\n",
    "words.sort(key=str.lower)       # Case-insensitive: ['apple', 'banana', 'Cherry']\n",
    "words.sort(reverse=True)        # Descending: ['Cherry', 'banana', 'apple']\n"
   ]
  },
  {
   "cell_type": "code",
   "execution_count": null,
   "id": "5693c27d",
   "metadata": {},
   "outputs": [],
   "source": [
    "## List Comprehensions\n",
    "\n",
    "# List comprehensions provide a concise way to create lists based on existing lists or other iterables.\n",
    "\n",
    "### Basic Syntax\n",
    "\n",
    "# [expression for item in iterable]\n",
    "squares = [x**2 for x in range(10)]\n",
    "# Result: [0, 1, 4, 9, 16, 25, 36, 49, 64, 81]\n"
   ]
  },
  {
   "cell_type": "code",
   "execution_count": null,
   "id": "68dbc494",
   "metadata": {},
   "outputs": [],
   "source": [
    "\n",
    "### With Conditions\n",
    "\n",
    "# [expression for item in iterable if condition]\n",
    "evens = [x for x in range(20) if x % 2 == 0]\n",
    "# Result: [0, 2, 4, 6, 8, 10, 12, 14, 16, 18]\n",
    "\n",
    "# Multiple conditions\n",
    "filtered = [x for x in range(100) if x % 2 == 0 if x % 3 == 0]\n",
    "# Numbers divisible by both 2 and 3\n"
   ]
  },
  {
   "cell_type": "code",
   "execution_count": null,
   "id": "0a63bb06",
   "metadata": {},
   "outputs": [],
   "source": [
    "### Complex Examples\n",
    "\n",
    "# Transform strings\n",
    "words = [\"hello\", \"world\", \"python\"]\n",
    "lengths = [len(word) for word in words]\n",
    "# Result: [5, 5, 6]\n",
    "\n",
    "# Nested list comprehension\n",
    "matrix = [[1, 2, 3], [4, 5, 6], [7, 8, 9]]\n",
    "flattened = [num for row in matrix for num in row]\n",
    "# Result: [1, 2, 3, 4, 5, 6, 7, 8, 9]\n",
    "\n",
    "# With function calls\n",
    "import math\n",
    "numbers = [1, 4, 9, 16, 25]\n",
    "square_roots = [math.sqrt(x) for x in numbers]\n",
    "# Result: [1.0, 2.0, 3.0, 4.0, 5.0]\n",
    "\n"
   ]
  },
  {
   "cell_type": "code",
   "execution_count": null,
   "id": "09fe70a9",
   "metadata": {},
   "outputs": [],
   "source": [
    "\n",
    "## Common Operations\n",
    "\n",
    "### Concatenation and Repetition\n",
    "\n",
    "list1 = [1, 2, 3]\n",
    "list2 = [4, 5, 6]\n",
    "\n",
    "# Concatenation with +\n",
    "combined = list1 + list2        # [1, 2, 3, 4, 5, 6]\n",
    "\n",
    "# Repetition with *\n",
    "repeated = [0] * 5              # [0, 0, 0, 0, 0]\n",
    "pattern = [1, 2] * 3            # [1, 2, 1, 2, 1, 2]\n",
    "\n"
   ]
  },
  {
   "cell_type": "code",
   "execution_count": null,
   "id": "0cf4a332",
   "metadata": {},
   "outputs": [],
   "source": [
    "### Membership Testing\n",
    "\n",
    "fruits = [\"apple\", \"banana\", \"orange\"]\n",
    "\n",
    "# Check if item exists\n",
    "has_apple = \"apple\" in fruits       # True\n",
    "no_grape = \"grape\" not in fruits    # True\n"
   ]
  },
  {
   "cell_type": "code",
   "execution_count": null,
   "id": "82dbbd35",
   "metadata": {},
   "outputs": [],
   "source": [
    "### Length and Statistics\n",
    "\n",
    "numbers = [3, 1, 4, 1, 5, 9, 2, 6]\n",
    "\n",
    "# Basic properties\n",
    "length = len(numbers)           # 8\n",
    "minimum = min(numbers)          # 1\n",
    "maximum = max(numbers)          # 9\n",
    "total = sum(numbers)            # 31\n",
    "\n",
    "# With strings (lexicographic comparison)\n",
    "words = [\"apple\", \"banana\", \"cherry\"]\n",
    "shortest = min(words, key=len)  # \"apple\"\n",
    "longest = max(words, key=len)   # \"banana\" or \"cherry\"\n"
   ]
  },
  {
   "cell_type": "code",
   "execution_count": null,
   "id": "20f8be6c",
   "metadata": {},
   "outputs": [],
   "source": [
    "## Iterating Over Lists\n",
    "\n",
    "### Simple Iteration\n",
    "\n",
    "fruits = [\"apple\", \"banana\", \"orange\"]\n",
    "\n",
    "# Iterate over values\n",
    "for fruit in fruits:\n",
    "    print(fruit)\n"
   ]
  },
  {
   "cell_type": "code",
   "execution_count": null,
   "id": "7d554796",
   "metadata": {},
   "outputs": [],
   "source": [
    "### With Index\n",
    "\n",
    "# Using enumerate()\n",
    "for i, fruit in enumerate(fruits):\n",
    "    print(f\"{i}: {fruit}\")\n",
    "\n",
    "# Using range() and len()\n",
    "for i in range(len(fruits)):\n",
    "    print(f\"{i}: {fruits[i]}\")\n"
   ]
  },
  {
   "cell_type": "code",
   "execution_count": null,
   "id": "ba720ec8",
   "metadata": {},
   "outputs": [],
   "source": [
    "\n",
    "\n",
    "### Multiple Lists\n",
    "\n",
    "names = [\"Alice\", \"Bob\", \"Charlie\"]\n",
    "ages = [25, 30, 35]\n",
    "\n",
    "# Using zip()\n",
    "for name, age in zip(names, ages):\n",
    "    print(f\"{name} is {age} years old\")\n"
   ]
  },
  {
   "cell_type": "code",
   "execution_count": null,
   "id": "41b1b262",
   "metadata": {},
   "outputs": [],
   "source": [
    "## Copying Lists\n",
    "\n",
    "### Shallow Copy\n",
    "\n",
    "original = [1, 2, 3, 4, 5]\n",
    "\n",
    "# Method 1: copy() method\n",
    "copy1 = original.copy()\n",
    "\n",
    "# Method 2: slice notation\n",
    "copy2 = original[:]\n",
    "\n",
    "# Method 3: list() constructor\n",
    "copy3 = list(original)\n",
    "\n",
    "# Method 4: unpacking\n",
    "copy4 = [*original]\n"
   ]
  },
  {
   "cell_type": "code",
   "execution_count": null,
   "id": "52ba1a88",
   "metadata": {},
   "outputs": [],
   "source": [
    "\n",
    "### Deep Copy\n",
    "\n",
    "import copy\n",
    "\n",
    "# For nested structures\n",
    "nested = [[1, 2], [3, 4], [5, 6]]\n",
    "deep_copy = copy.deepcopy(nested)\n",
    "\n",
    "# Modifying original won't affect deep copy\n",
    "nested[0][0] = 999\n",
    "print(nested)     # [[999, 2], [3, 4], [5, 6]]\n",
    "print(deep_copy)  # [[1, 2], [3, 4], [5, 6]]\n"
   ]
  },
  {
   "cell_type": "markdown",
   "id": "e6335873",
   "metadata": {},
   "source": [
    "## Best Practices\n",
    "\n",
    "### Do's\n",
    "- Use list comprehensions for simple transformations\n",
    "- Use `enumerate()` when you need both index and value\n",
    "- Use `zip()` to iterate over multiple lists simultaneously\n",
    "- Use `in` for membership testing instead of manual loops\n",
    "- Use meaningful variable names\n",
    "\n",
    "### Don'ts\n",
    "- Avoid modifying a list while iterating over it\n",
    "- Don't use lists as default arguments in functions\n",
    "- Avoid deep nesting when possible"
   ]
  },
  {
   "cell_type": "code",
   "execution_count": null,
   "id": "f528f6e0",
   "metadata": {},
   "outputs": [],
   "source": [
    "### Good Examples\n",
    "\n",
    "# Good: List comprehension\n",
    "squares = [x**2 for x in range(10)]\n",
    "\n",
    "# Good: Using enumerate\n",
    "for i, item in enumerate(my_list):\n",
    "    print(f\"Item {i}: {item}\")\n",
    "\n",
    "# Good: Membership testing\n",
    "if item in my_list:\n",
    "    process_item(item)\n"
   ]
  },
  {
   "cell_type": "code",
   "execution_count": null,
   "id": "81afb822",
   "metadata": {},
   "outputs": [],
   "source": [
    "### Avoid These\n",
    "\n",
    "# Bad: Modifying list while iterating\n",
    "for item in my_list:\n",
    "    if condition:\n",
    "        my_list.remove(item)  # Can cause issues\n",
    "\n",
    "# Bad: Mutable default argument\n",
    "def add_item(item, my_list=[]):  # Dangerous!\n",
    "    my_list.append(item)\n",
    "    return my_list\n",
    "\n",
    "# Better: Use None as default\n",
    "def add_item(item, my_list=None):\n",
    "    if my_list is None:\n",
    "        my_list = []\n",
    "    my_list.append(item)\n",
    "    return my_list\n",
    "\n"
   ]
  },
  {
   "cell_type": "markdown",
   "id": "e0912745",
   "metadata": {},
   "source": [
    "## Conclusion\n",
    "\n",
    "Python lists are incredibly versatile and form the backbone of many Python programs. They're perfect for:\n",
    "- Storing sequences of related data\n",
    "- Building dynamic collections\n",
    "- Implementing stacks and queues\n",
    "- Creating lookup tables\n",
    "- Processing data in sequence\n",
    "\n",
    "Master these concepts and you'll have a solid foundation for working with one of Python's most important data structures!"
   ]
  }
 ],
 "metadata": {
  "kernelspec": {
   "display_name": "base",
   "language": "python",
   "name": "python3"
  },
  "language_info": {
   "codemirror_mode": {
    "name": "ipython",
    "version": 3
   },
   "file_extension": ".py",
   "mimetype": "text/x-python",
   "name": "python",
   "nbconvert_exporter": "python",
   "pygments_lexer": "ipython3",
   "version": "3.12.7"
  }
 },
 "nbformat": 4,
 "nbformat_minor": 5
}
