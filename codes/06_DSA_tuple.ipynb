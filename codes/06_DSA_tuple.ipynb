{
 "cells": [
  {
   "cell_type": "markdown",
   "id": "2f779c2e",
   "metadata": {},
   "source": [
    "### Python Data Structure  - Working with Data in Python"
   ]
  },
  {
   "cell_type": "code",
   "execution_count": null,
   "id": "9ade73ae",
   "metadata": {},
   "outputs": [],
   "source": [
    "# Python is dynamically typed\n",
    "x = 10        # x is an integer\n",
    "print(type(x))  # <class 'int'>\n",
    "\n",
    "x = \"Hello\"   # Now x is a string\n",
    "print(type(x))  # <class 'str'>\n",
    "\n",
    "x = [1, 2, 3] # Now x is a list\n",
    "print(type(x))  # <class 'list'>\n"
   ]
  },
  {
   "cell_type": "code",
   "execution_count": null,
   "id": "23303555",
   "metadata": {},
   "outputs": [],
   "source": [
    "# Numeric Types\n",
    "integer_num = 42                    # int\n",
    "float_num = 3.14159                # float\n",
    "complex_num = 3 + 4j               # complex\n",
    "\n",
    "# Text Type\n",
    "text = \"Hello, World!\"             # str\n",
    "\n",
    "# Boolean Type\n",
    "is_true = True                     # bool\n",
    "is_false = False                   # bool\n",
    "\n",
    "# Check data type\n",
    "print(type(integer_num))           # <class 'int'>\n",
    "print(type(text))                  # <class 'str'>\n"
   ]
  },
  {
   "cell_type": "markdown",
   "id": "80c7b92b",
   "metadata": {},
   "source": [
    "#### Sequential Type"
   ]
  },
  {
   "cell_type": "markdown",
   "id": "3cb163e1",
   "metadata": {},
   "source": [
    "create a strings"
   ]
  },
  {
   "cell_type": "code",
   "execution_count": 84,
   "id": "39ae0cc7",
   "metadata": {},
   "outputs": [
    {
     "name": "stdout",
     "output_type": "stream",
     "text": [
      "Hello World Hello World\n",
      "She said, \"Hello!\"\n"
     ]
    }
   ],
   "source": [
    "# Different ways to create strings\n",
    "single_quote = 'Hello World'\n",
    "double_quote = \"Hello World\"\n",
    "triple_quote = \"\"\"This is a\n",
    "multi-line string\"\"\"\n",
    "\n",
    "# Escape characters\n",
    "escaped = \"She said, \\\"Hello!\\\"\"\n",
    "newline = \"Line 1\\nLine 2\"\n",
    "\n",
    "\n",
    "# String operations\n",
    "concatenated = single_quote + \" \" + double_quote  # Concatenation   \n",
    "print(concatenated)  # Hello World Hello World\n",
    "print(escaped)\n",
    "\n"
   ]
  },
  {
   "cell_type": "code",
   "execution_count": null,
   "id": "98ea88e6",
   "metadata": {},
   "outputs": [],
   "source": [
    "tab = \"Column1\\tColumn2\\tColumn3\"\n",
    "print(tab)"
   ]
  },
  {
   "cell_type": "code",
   "execution_count": 85,
   "id": "6d7e2a3e",
   "metadata": {},
   "outputs": [
    {
     "name": "stdout",
     "output_type": "stream",
     "text": [
      "Hello Alice, you scored 95.5%\n"
     ]
    }
   ],
   "source": [
    "name = \"Alice\"\n",
    "age = 25\n",
    "score = 95.5\n",
    "\n",
    "# f-strings (Python 3.6+) - Recommended\n",
    "message = f\"Hello {name}, you are {age} years old and scored {score:.1f}%\"\n",
    "\n",
    "# .format() method\n",
    "message = \"Hello {}, you are {} years old\".format(name, age)\n",
    "\n",
    "# % formatting (older style)\n",
    "message = \"Hello %s, you scored %.1f%%\" % (name, score)\n",
    "\n",
    "print(message)\n"
   ]
  },
  {
   "cell_type": "code",
   "execution_count": 86,
   "id": "0e988d24",
   "metadata": {},
   "outputs": [
    {
     "name": "stdout",
     "output_type": "stream",
     "text": [
      "18\n",
      "P\n",
      "g\n",
      "Python\n",
      "Pto rgamn\n",
      "PYTHON PROGRAMMING\n",
      "python programming\n",
      "Python Programming\n",
      "Java Programming\n",
      "['Python', 'Programming']\n",
      "a---b---c\n"
     ]
    }
   ],
   "source": [
    "text = \"Python Programming\"\n",
    "\n",
    "# Basic operations\n",
    "print(len(text))           # 18 (length)\n",
    "print(text[0])             # 'P' (first character)\n",
    "print(text[-1])            # 'g' (last character)\n",
    "print(text[0:6])           # 'Python' (slicing)\n",
    "print(text[::2])           # 'Pto rgamn' (every 2nd character)\n",
    "\n",
    "# String methods\n",
    "print(text.upper())        # 'PYTHON PROGRAMMING'\n",
    "print(text.lower())        # 'python programming'\n",
    "print(text.title())        # 'Python Programming'\n",
    "print(text.replace('Python', 'Java'))  # 'Java Programming'\n",
    "print(text.split())        # ['Python', 'Programming']\n",
    "print('---'.join(['a', 'b', 'c']))     # 'a---b---c'\n"
   ]
  },
  {
   "cell_type": "markdown",
   "id": "97347050",
   "metadata": {},
   "source": [
    "Common String Methods\n"
   ]
  },
  {
   "cell_type": "code",
   "execution_count": null,
   "id": "fe34f44f",
   "metadata": {},
   "outputs": [],
   "source": [
    "text = \"  Python Programming  \"\n",
    "\n",
    "# Checking methods\n",
    "print(text.startswith(\"Python\"))   # False (has spaces)\n",
    "print(text.strip().startswith(\"Python\"))  # True\n",
    "print(text.endswith(\"ing\"))        # False (has spaces)\n",
    "print(text.isdigit())              # False\n",
    "print(\"123\".isdigit())             # True\n",
    "print(text.isalpha())              # False\n",
    "\n",
    "# Cleaning methods\n",
    "print(text.strip())                # Remove whitespace\n",
    "print(text.lstrip())               # Remove left whitespace\n",
    "print(text.rstrip())               # Remove right whitespace\n",
    "\n",
    "# Finding and counting\n",
    "print(text.find(\"gram\"))           # Returns index of first occurrence\n",
    "print(text.count(\"m\"))             # Count occurrences\n"
   ]
  },
  {
   "cell_type": "markdown",
   "id": "2d24a912",
   "metadata": {},
   "source": [
    "1. Lists in Python "
   ]
  },
  {
   "cell_type": "code",
   "execution_count": null,
   "id": "a9f52e12",
   "metadata": {},
   "outputs": [],
   "source": [
    "# Creating lists\n",
    "fruits = ['apple', 'banana', 'orange']\n",
    "numbers = [1, 2, 3, 4, 5]\n",
    "mixed = ['hello', 42, 3.14, True]\n"
   ]
  },
  {
   "cell_type": "code",
   "execution_count": null,
   "id": "6d682cb9",
   "metadata": {},
   "outputs": [
    {
     "name": "stdout",
     "output_type": "stream",
     "text": [
      "apple\n",
      "apple\n",
      "kiwi\n"
     ]
    }
   ],
   "source": [
    "# create lists\n",
    "fruits = ['apple', 'banana', 'orange', 'grape', 'kiwi', 'apple']\n",
    "\n",
    "# Indexing\n",
    "print(fruits[0])        # 'apple' (first element)\n",
    "print(fruits[-1])       # 'apple' (last element)\n",
    "print(fruits[-2])       # 'kiwi' (second to last)\n"
   ]
  },
  {
   "cell_type": "code",
   "execution_count": null,
   "id": "302f5ca1",
   "metadata": {},
   "outputs": [],
   "source": [
    "\n",
    "# Slicing\n",
    "print(fruits[1:4])      # ['banana', 'orange', 'grape']\n",
    "print(fruits[:3])       # ['apple', 'banana', 'orange']\n",
    "print(fruits[2:])       # ['orange', 'grape', 'kiwi']\n",
    "print(fruits[::2])      # ['apple', 'orange', 'kiwi'] (every 2nd)\n",
    "print(fruits[::-1])     # Reverse the list\n"
   ]
  },
  {
   "cell_type": "markdown",
   "id": "82cc72bb",
   "metadata": {},
   "source": [
    "Adding elements (All valid)"
   ]
  },
  {
   "cell_type": "code",
   "execution_count": 55,
   "id": "72471105",
   "metadata": {},
   "outputs": [
    {
     "name": "stdout",
     "output_type": "stream",
     "text": [
      "['apple', 'banana', 'orange', 'grape']\n",
      "['apple', 'kiwi', 'banana', 'orange', 'grape']\n",
      "['apple', 'kiwi', 'coconut', 'orange', 'grape']\n"
     ]
    }
   ],
   "source": [
    "# create lists\n",
    "fruits = ['apple', 'banana', 'orange']\n",
    "\n",
    "# add items to the list \n",
    "fruits.append('grape')              \n",
    "print(fruits)  # ['apple', 'banana', 'orange', 'grape']\n",
    "\n",
    "# Insert an item at a specific position             \n",
    "fruits.insert(1, 'kiwi')            \n",
    "print(fruits)  # ['apple', 'kiwi', 'banana', 'orange', 'grape']\n",
    "\n",
    "\n",
    "fruits[2] = 'coconut'  # Change an item\n",
    "print(fruits)  # ['apple', 'kiwi', 'coconut', 'orange', 'grape']"
   ]
  },
  {
   "cell_type": "code",
   "execution_count": 56,
   "id": "0ecdd50c",
   "metadata": {},
   "outputs": [
    {
     "name": "stdout",
     "output_type": "stream",
     "text": [
      "['apple', 'kiwi', 'coconut', 'grape']\n",
      "coconut\n",
      "['apple', 'kiwi', 'grape']\n"
     ]
    }
   ],
   "source": [
    "#Remove items from the list                     \n",
    "fruits.remove('orange')               \n",
    "print(fruits)  # ['apple', 'kiwi', 'coconut', 'grape']\n",
    "\n",
    "# Removes item by index\n",
    "removed_fruits = fruits.pop(2)  # Remove 'coconut'                \n",
    "print (removed_fruits)\n",
    "\n",
    "print(fruits)  # ['apple', 'kiwi', 'grape']"
   ]
  },
  {
   "cell_type": "code",
   "execution_count": 57,
   "id": "89286bbb",
   "metadata": {},
   "outputs": [
    {
     "data": {
      "text/plain": [
       "'grape'"
      ]
     },
     "execution_count": 57,
     "metadata": {},
     "output_type": "execute_result"
    }
   ],
   "source": [
    "# Remove the last item\n",
    "fruits.pop() # Removes 'grape'\n"
   ]
  },
  {
   "cell_type": "code",
   "execution_count": null,
   "id": "d03a9511",
   "metadata": {},
   "outputs": [
    {
     "name": "stdout",
     "output_type": "stream",
     "text": [
      "['apple', 'kiwi']\n",
      "['apple', 'kiwi', 'mango', 'peach']\n",
      "[]\n"
     ]
    }
   ],
   "source": [
    "print(fruits)  # ['apple', 'kiwi']\n",
    "\n",
    "# Extend the list with another list\n",
    "fruits.extend(['mango', 'peach'])   \n",
    "print(fruits)  # ['apple', 'kiwi', 'mango', 'peach']\n",
    "\n",
    "# Removes all items\n",
    "fruits.clear()                 \n",
    "print(fruits)  # []\n"
   ]
  },
  {
   "cell_type": "markdown",
   "id": "a4f1d879",
   "metadata": {},
   "source": [
    "List methods"
   ]
  },
  {
   "cell_type": "code",
   "execution_count": 67,
   "id": "bfa97156",
   "metadata": {},
   "outputs": [
    {
     "name": "stdout",
     "output_type": "stream",
     "text": [
      "['Honda', 'Ford', 'BMW', 'Mercedes', 'Audi', 'Volkswagen']\n",
      "['Audi', 'BMW', 'Ford', 'Honda', 'Mercedes', 'Volkswagen']\n",
      "['Volkswagen', 'Mercedes', 'Honda', 'Ford', 'BMW', 'Audi']\n",
      "0\n",
      "['Volkswagen', 'Mercedes', 'Honda', 'Ford', 'BMW', 'Audi']\n"
     ]
    }
   ],
   "source": [
    "car_list = ['Toyota', 'Honda', 'Ford', 'BMW', 'Mercedes', 'Audi', 'Volkswagen']\n",
    "\n",
    "del car_list[0]                  # Deletes the first item in the list\n",
    "print(car_list)  # ['Honda', 'Ford', 'BMW', 'Mercedes', 'Audi', 'Volkswagen']\n",
    "\n",
    "car_list.sort()                  # Sorts the list in ascending alphabetical order\n",
    "print(car_list)  # ['Audi', 'BMW', 'Ford', 'Honda', 'Mercedes', 'Volkswagen']\n",
    "\n",
    "car_list.reverse()               # Reverses the order of items in the list\n",
    "print(car_list)  # ['Volkswagen', 'Mercedes', 'Honda', 'Ford', 'BMW', 'Audi']\n",
    "\n",
    "count = car_list.count('apple')  # Counts how many times 'apple' appears in the list\n",
    "print(count)  # 0 (since 'apple' is not in the list)\n",
    "\n",
    "car_list.sort(reverse=True)  # Sorts the list in descending order\n",
    "print(car_list)  # ['Volkswagen', 'Mercedes', 'Honda', 'Ford', 'BMW', 'Audi']\n"
   ]
  },
  {
   "cell_type": "markdown",
   "id": "bfa720d1",
   "metadata": {},
   "source": [
    "sorted() and list.sort() are used for sorting, but they differ in their behavior and application:\n",
    "\n",
    "* Applicability:\n",
    "`list.sort(): `Can only be used with list objects.\n",
    "`sorted(): `Can be used with any iterable (lists, tuples, strings, sets, dictionaries, etc.).\n",
    "\n",
    "* Memory Usage:\n",
    "`list.sort():` More memory-efficient as it sorts in-place and doesn't create a new object.\n",
    "`sorted(): `Creates a new list, which requires additional memory."
   ]
  },
  {
   "cell_type": "code",
   "execution_count": 68,
   "id": "65ab57a0",
   "metadata": {},
   "outputs": [
    {
     "name": "stdout",
     "output_type": "stream",
     "text": [
      "[1, 2, 5, 9]\n",
      "[5, 2, 9, 1]\n"
     ]
    }
   ],
   "source": [
    "# sorted(): Built-in function (Returns a new sorted list)\n",
    "numbers = [5, 2, 9, 1]\n",
    "new_list = sorted(numbers)\n",
    "\n",
    "print(new_list)    # [1, 2, 5, 9]\n",
    "print(numbers)     # [5, 2, 9, 1]  — original list not changed\n"
   ]
  },
  {
   "cell_type": "code",
   "execution_count": null,
   "id": "106bf7ec",
   "metadata": {},
   "outputs": [
    {
     "name": "stdout",
     "output_type": "stream",
     "text": [
      "[1, 2, 5, 9]\n"
     ]
    }
   ],
   "source": [
    "# .sort(): List method (Sorts the list in place)\n",
    "numbers = [5, 2, 9, 1]\n",
    "numbers.sort()\n",
    "\n",
    "print(numbers)  # [1, 2, 5, 9]  — list is changed\n"
   ]
  },
  {
   "cell_type": "code",
   "execution_count": null,
   "id": "416d2cd7",
   "metadata": {},
   "outputs": [
    {
     "name": "stdout",
     "output_type": "stream",
     "text": [
      "[9, 5, 2, 1]\n",
      "['bob', 'Charlie', 'Kaka', 'olivier']\n"
     ]
    }
   ],
   "source": [
    "# Reverse sort\n",
    "sorted(numbers, reverse=True)\n",
    "numbers.sort(reverse=True)\n",
    "print(numbers)  # [9, 5, 2, 1]  — list is sorted in reverse order\n",
    "\n",
    "# Custom sort with key\n",
    "names = ['Kaka','olivier', 'bob', 'Charlie']\n",
    "sorted(names, key=str.lower)\n",
    "names.sort(key=str.lower)\n",
    "print(names)  # ['bob', 'Charlie', 'Kaka', 'olivier'] — sorted case-insensitively\n"
   ]
  },
  {
   "cell_type": "code",
   "execution_count": null,
   "id": "5b5332d6",
   "metadata": {},
   "outputs": [
    {
     "name": "stdout",
     "output_type": "stream",
     "text": [
      "lenghth of the list 4\n",
      "Sum of all values in the list: 17\n",
      "Maximum value in the list: 9\n",
      "Minimum value: 1\n"
     ]
    }
   ],
   "source": [
    "\n",
    "# Other operations\n",
    "print('lenghth of the list', len(numbers))                 \n",
    "print('Sum of all values in the list:',sum(numbers))             \n",
    "print('Maximum value in the list:',max(numbers))               \n",
    "print('Minimum value:', min(numbers))             "
   ]
  },
  {
   "cell_type": "markdown",
   "id": "1f77b8f2",
   "metadata": {},
   "source": [
    "### Set in python"
   ]
  },
  {
   "cell_type": "markdown",
   "id": "182e16b7",
   "metadata": {},
   "source": [
    "Duplicates are removed"
   ]
  },
  {
   "cell_type": "code",
   "execution_count": null,
   "id": "7805db94",
   "metadata": {},
   "outputs": [
    {
     "name": "stdout",
     "output_type": "stream",
     "text": [
      "{1, 2, 3}\n",
      "{'Grp E', 'Grp A', 'Grp B', 'Grp C'}\n"
     ]
    }
   ],
   "source": [
    "# create a set\n",
    "# Sets are unordered collections of unique elements\n",
    "my_set = {1, 2, 2, 3, 5, 1}  # Duplicates set created\n",
    "names = {\"Grp A\", \"Grp A\", \"Grp B\", \"Grp C\", \"Grp E\", \"Grp E\"}\n",
    "print(my_set)  # Output: {1, 2, 3}\n",
    "print (names)"
   ]
  },
  {
   "cell_type": "markdown",
   "id": "8df82009",
   "metadata": {},
   "source": [
    "Using the set() constructor:"
   ]
  },
  {
   "cell_type": "code",
   "execution_count": 79,
   "id": "b3e95312",
   "metadata": {},
   "outputs": [
    {
     "name": "stdout",
     "output_type": "stream",
     "text": [
      "{1, 2, 3, 4, 5}\n"
     ]
    }
   ],
   "source": [
    "# Create a set using the set() constructor \n",
    "set_const = set([1, 2, 3, 4, 5, 2, 1, 3]) \n",
    "print(set_const)  # Output: {1, 2, 3, 4, 5}"
   ]
  },
  {
   "cell_type": "code",
   "execution_count": 80,
   "id": "d995291e",
   "metadata": {},
   "outputs": [
    {
     "name": "stdout",
     "output_type": "stream",
     "text": [
      "{1, 2, 3, 4, 5}\n",
      "{3}\n",
      "{1, 2}\n",
      "{1, 2, 4, 5}\n",
      "{1, 2, 3, 4}\n",
      "{1, 3, 4}\n",
      "{1, 3, 4}\n",
      "True\n",
      "True\n",
      "3\n",
      "False\n",
      "False\n",
      "True\n"
     ]
    }
   ],
   "source": [
    "# Set operations\n",
    "set_a = {1, 2, 3}\n",
    "set_b = {3, 4, 5} \n",
    "# Union\n",
    "union_set = set_a | set_b  # or set_a.union(set_b)\n",
    "print(union_set)  # Output: {1, 2, 3, 4, 5}\n",
    "# Intersection\n",
    "intersection_set = set_a & set_b  # or set_a.intersection(set_b)\n",
    "print(intersection_set)  # Output: {3}\n",
    "# Difference\n",
    "difference_set = set_a - set_b  # or set_a.difference(set_b)  \n",
    "print(difference_set)  # Output: {1, 2}\n",
    "# Symmetric Difference  \n",
    "symmetric_difference_set = set_a ^ set_b  # or set_a.symmetric_difference(set_b)\n",
    "print(symmetric_difference_set)  # Output: {1, 2, 4, 5} \n",
    "# Adding and removing elements\n",
    "set_a.add(4)  # Add an element\n",
    "print(set_a)  # Output: {1, 2, 3, 4}\n",
    "set_a.remove(2)  # Remove an element  \n",
    "print(set_a)  # Output: {1, 3, 4}\n",
    "set_a.discard(5)  # Discard an element (no error if not found)\n",
    "print(set_a)  # Output: {1, 3, 4} \n",
    "# Check membership\n",
    "print(3 in set_a)  # Output: True\n",
    "print(5 not in set_a)  # Output: True\n",
    "# Set methods\n",
    "print(len(set_a))  # Output: 3 (number of elements) \n",
    "print(set_a.isdisjoint(set_b))  # Output: False (no common elements)\n",
    "print(set_a.issubset(set_b))  # Output: False (set_a is not a subset of set_b)\n",
    "print(set_a.issuperset({1, 3}))  # Output: True (set_a contains {1, 3})   \n",
    " "
   ]
  },
  {
   "cell_type": "markdown",
   "id": "81d6c097",
   "metadata": {},
   "source": [
    "#### Dictionary in Python"
   ]
  },
  {
   "cell_type": "code",
   "execution_count": null,
   "id": "1da03eb6",
   "metadata": {},
   "outputs": [
    {
     "name": "stdout",
     "output_type": "stream",
     "text": [
      "{'name': 'Didier', 'age': 30, 'location': 'Kigali'}\n"
     ]
    }
   ],
   "source": [
    "#creating a dictionary\n",
    "person = {\n",
    "    \"name\": \"Didier\",\n",
    "    \"age\": 30,\n",
    "    \"location\": \"Kigali\"\n",
    "}\n",
    "print(person)  # Output: {'name': 'Didier', 'age': 30, 'location': 'Kigali'}\n"
   ]
  },
  {
   "cell_type": "code",
   "execution_count": null,
   "id": "98608158",
   "metadata": {},
   "outputs": [],
   "source": [
    "\n",
    "# Accessing dictionary values\n",
    "print(person[\"name\"])        # Output: Didier \n",
    "print(person.get(\"age\"))     # Output: 30\n",
    "\n",
    "# Adding a new key-value pair \n",
    "print(person.get(\"location\", \"Unknown\"))  # Output: Kigali\n",
    "\n",
    "# Modifying a value\n",
    "person[\"age\"] = 31  \n",
    "print(person[\"age\"])         # Output: 31"
   ]
  },
  {
   "cell_type": "code",
   "execution_count": null,
   "id": "3bb4e901",
   "metadata": {},
   "outputs": [],
   "source": [
    "# Removing a key-value pair\n",
    "del person[\"location\"]\n",
    "print(person)                # Output: {'name': 'Didier', 'age': 31}\n",
    "# Iterating through a dictionary\n",
    "for key, value in person.items():\n",
    "    print(f\"{key}: {value}\")   "
   ]
  },
  {
   "cell_type": "code",
   "execution_count": 82,
   "id": "b43758a1",
   "metadata": {},
   "outputs": [
    {
     "name": "stdout",
     "output_type": "stream",
     "text": [
      "dict_keys(['name', 'age'])\n",
      "dict_values(['Didier', 31])\n",
      "dict_items([('name', 'Didier'), ('age', 31)])\n",
      "{0: 0, 1: 1, 2: 4, 3: 9, 4: 16}\n"
     ]
    }
   ],
   "source": [
    "# Dictionary methods\n",
    "print(person.keys())         # Output: dict_keys(['name', 'age'])   \n",
    "print(person.values())       # Output: dict_values(['Didier', 31])\n",
    "print(person.items())        # Output: dict_items([('name', 'Didier'), ('age', 31)])    \n",
    "# Dictionary comprehension\n",
    "squared_numbers = {x: x**2 for x in range(5)}  # Creates a dictionary of numbers and their squares\n",
    "print(squared_numbers)  # Output: {0: 0, 1: 1, 2: 4, 3: 9, 4: 16}                 "
   ]
  }
 ],
 "metadata": {
  "kernelspec": {
   "display_name": "base",
   "language": "python",
   "name": "python3"
  },
  "language_info": {
   "codemirror_mode": {
    "name": "ipython",
    "version": 3
   },
   "file_extension": ".py",
   "mimetype": "text/x-python",
   "name": "python",
   "nbconvert_exporter": "python",
   "pygments_lexer": "ipython3",
   "version": "3.12.7"
  }
 },
 "nbformat": 4,
 "nbformat_minor": 5
}
