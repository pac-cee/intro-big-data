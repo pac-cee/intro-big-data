{
 "cells": [
  {
   "cell_type": "markdown",
   "id": "2f779c2e",
   "metadata": {},
   "source": [
    "### Python Data Structure  - Working with Data in Python"
   ]
  },
  {
   "cell_type": "markdown",
   "id": "996a4b6c",
   "metadata": {},
   "source": [
    "##### Python Dictionary Complete Guide\n",
    "\n",
    "###### What is a Dictionary?\n",
    "\n",
    "A dictionary in Python is a mutable, unordered collection of key-value pairs. Each key is unique and maps to a specific value. Dictionaries are defined using curly braces `{}` or the `dict()` constructor.\n",
    "\n",
    "## Creating Dictionaries\n",
    "\n",
    "### Empty Dictionary\n",
    "```python\n",
    "# Using curly braces\n",
    "empty_dict = {}\n",
    "\n",
    "# Using dict() constructor\n",
    "empty_dict = dict()\n",
    "```"
   ]
  },
  {
   "cell_type": "code",
   "execution_count": 1,
   "id": "3c85369c",
   "metadata": {},
   "outputs": [],
   "source": [
    "### Dictionary with Initial Values\n",
    "\n",
    "# Method 1: Direct assignment\n",
    "student = {\n",
    "    \"name\": \"Alice\",\n",
    "    \"age\": 20,\n",
    "    \"grade\": \"A\",\n",
    "    \"subjects\": [\"Math\", \"Physics\"]\n",
    "}\n",
    "\n",
    "# Method 2: Using dict() constructor\n",
    "student = dict(name=\"Alice\", age=20, grade=\"A\")\n",
    "\n",
    "# Method 3: From list of tuples\n",
    "pairs = [(\"name\", \"Alice\"), (\"age\", 20), (\"grade\", \"A\")]\n",
    "student = dict(pairs)\n",
    "\n",
    "# Method 4: Dictionary comprehension\n",
    "squares = {x: x**2 for x in range(1, 6)}  # {1: 1, 2: 4, 3: 9, 4: 16, 5: 25}\n"
   ]
  },
  {
   "cell_type": "code",
   "execution_count": 3,
   "id": "7842d692",
   "metadata": {},
   "outputs": [
    {
     "name": "stdout",
     "output_type": "stream",
     "text": [
      "Name: Alice\n",
      "Age: Not specified\n",
      "Keys: dict_keys(['name', 'age', 'grade'])\n",
      "Values: dict_values(['Alice', 20, 'A'])\n",
      "Items: dict_items([('name', 'Alice'), ('age', 20), ('grade', 'A')])\n"
     ]
    }
   ],
   "source": [
    "## Accessing Dictionary Elements\n",
    "\n",
    "### Getting Values\n",
    "\n",
    "student = {\"name\": \"Alice\", \"age\": 20, \"grade\": \"A\"}\n",
    "\n",
    "# Method 1: Using square brackets\n",
    "name = student[\"name\"]  # \"Alice\"\n",
    "\n",
    "# Method 2: Using get() method (safer)\n",
    "name = student.get(\"name\")  # \"Alice\"\n",
    "age = student.get(\"height\", \"Not specified\")  # Returns default if key doesn't exist\n",
    "\n",
    "# Method 3: Getting all keys, values, or items\n",
    "keys = student.keys()      # dict_keys(['name', 'age', 'grade'])\n",
    "values = student.values()  # dict_values(['Alice', 20, 'A'])\n",
    "items = student.items()    # dict_items([('name', 'Alice'), ('age', 20), ('grade', 'A')])\n",
    "\n",
    "# printing the results\n",
    "print(\"Name:\", name)    \n",
    "print(\"Age:\", age)\n",
    "print(\"Keys:\", keys)  \n",
    "print(\"Values:\", values)\n",
    "print(\"Items:\", items)\n"
   ]
  },
  {
   "cell_type": "code",
   "execution_count": 8,
   "id": "b794cd89",
   "metadata": {},
   "outputs": [
    {
     "name": "stdout",
     "output_type": "stream",
     "text": [
      "{'name': 'Alice', 'age': 22, 'grade': 'A', 'subjects': ['Math', 'Physics'], 'height': '5\\'6\"', 'weight': '120lbs', 'city': 'New York'}\n"
     ]
    }
   ],
   "source": [
    "## Modifying Dictionaries\n",
    "\n",
    "### Adding and Updating Elements\n",
    "\n",
    "student = {\"name\": \"Alice\", \"age\": 20}\n",
    "\n",
    "# Adding new key-value pair\n",
    "student[\"grade\"] = \"A\"\n",
    "student[\"subjects\"] = [\"Math\", \"Physics\"]\n",
    "\n",
    "# Updating existing value\n",
    "student[\"age\"] = 21\n",
    "\n",
    "# Using update() method\n",
    "student.update({\"height\": \"5'6\\\"\", \"weight\": \"120lbs\"})\n",
    "student.update(age=22, city=\"New York\")  # Using keyword arguments\n",
    "\n",
    "print(student)\n",
    "# {'name': 'Alice', 'age': 22, 'grade': 'A', 'subjects': ['Math', 'Physics'], 'height': \"5'6\\\"\", 'weight': '120lbs', 'city': 'New York'}"
   ]
  },
  {
   "cell_type": "code",
   "execution_count": 9,
   "id": "9fd76007",
   "metadata": {},
   "outputs": [
    {
     "name": "stdout",
     "output_type": "stream",
     "text": [
      "Updated student dictionary: {}\n",
      "Grade: A\n",
      "Height: Unknown\n",
      "Last item removed: ('age', 20)\n",
      "Student after clearing: {}\n"
     ]
    }
   ],
   "source": [
    "\n",
    "\n",
    "### Removing Elements\n",
    "\n",
    "student = {\"name\": \"Alice\", \"age\": 20, \"grade\": \"A\", \"city\": \"NYC\"}\n",
    "\n",
    "# Method 1: del statement\n",
    "del student[\"city\"]\n",
    "\n",
    "# Method 2: pop() method (returns the value)\n",
    "grade = student.pop(\"grade\")  # Returns \"A\" and removes the key\n",
    "\n",
    "# Method 3: pop() with default value\n",
    "height = student.pop(\"height\", \"Unknown\")  # Returns \"Unknown\" since key doesn't exist\n",
    "\n",
    "# Method 4: popitem() - removes and returns last inserted key-value pair\n",
    "last_item = student.popitem()\n",
    "\n",
    "# Method 5: clear() - removes all elements\n",
    "student.clear()  # {}\n",
    "\n",
    "print(\"Updated student dictionary:\", student)  # {}\n",
    "print(\"Grade:\", grade)\n",
    "print(\"Height:\", height)          \n",
    "print(\"Last item removed:\", last_item)\n",
    "print(\"Student after clearing:\", student)  # {}\n",
    "\n"
   ]
  },
  {
   "cell_type": "code",
   "execution_count": 10,
   "id": "c711d775",
   "metadata": {},
   "outputs": [],
   "source": [
    "## Dictionary Methods\n",
    "\n",
    "### Common Methods\n",
    "\n",
    "student = {\"name\": \"Alice\", \n",
    "           \"age\": 20, \n",
    "           \"grade\": \"A\",\n",
    "           \"subjects\": [\"Math\", \"Physics\"]}\n",
    "\n",
    "# copy() - creates a shallow copy\n",
    "student_copy = student.copy()\n",
    "\n",
    "# fromkeys() - creates dict with specified keys and same value\n",
    "subjects = [\"Math\", \"Physics\", \"Chemistry\"]\n",
    "grades = dict.fromkeys(subjects, \"Not graded\")\n",
    "# {'Math': 'Not graded', 'Physics': 'Not graded', 'Chemistry': 'Not graded'}\n",
    "\n",
    "# setdefault() - gets value or sets default if key doesn't exist\n",
    "height = student.setdefault(\"height\", \"5'5\\\"\")  # Adds height key with default value\n"
   ]
  },
  {
   "cell_type": "code",
   "execution_count": 11,
   "id": "ba1f9517",
   "metadata": {},
   "outputs": [
    {
     "name": "stdout",
     "output_type": "stream",
     "text": [
      "Student name: Alice\n",
      "Height not specified\n"
     ]
    }
   ],
   "source": [
    "### Checking for Keys\n",
    "\n",
    "student = {\"name\": \"Alice\", \"age\": 20, \"grade\": \"A\"}\n",
    "\n",
    "# Using 'in' operator\n",
    "if \"name\" in student:\n",
    "    print(f\"Student name: {student['name']}\")\n",
    "\n",
    "# Using 'not in' operator\n",
    "if \"height\" not in student:\n",
    "    print(\"Height not specified\")\n",
    "\n",
    "# Using get() with None check\n",
    "height = student.get(\"height\")\n",
    "if height is not None:\n",
    "    print(f\"Height: {height}\")\n"
   ]
  },
  {
   "cell_type": "code",
   "execution_count": 13,
   "id": "201313ae",
   "metadata": {},
   "outputs": [
    {
     "name": "stdout",
     "output_type": "stream",
     "text": [
      "name: Alice\n",
      "age: 20\n",
      "grade: A\n"
     ]
    }
   ],
   "source": [
    "\n",
    "## Iterating Through Dictionaries\n",
    "\n",
    "\n",
    "student = {\"name\": \"Alice\", \"age\": 20, \"grade\": \"A\"}\n",
    "\n",
    "# Iterating through keys\n",
    "for key in student:\n",
    "    print(f\"{key}: {student[key]}\")\n",
    "\n",
    "\n"
   ]
  },
  {
   "cell_type": "code",
   "execution_count": 14,
   "id": "9c76cf0d",
   "metadata": {},
   "outputs": [
    {
     "name": "stdout",
     "output_type": "stream",
     "text": [
      "name\n",
      "age\n",
      "grade\n"
     ]
    }
   ],
   "source": [
    "# Iterating through keys explicitly\n",
    "for key in student.keys():\n",
    "    print(key)\n",
    "\n"
   ]
  },
  {
   "cell_type": "code",
   "execution_count": 15,
   "id": "139766e0",
   "metadata": {},
   "outputs": [
    {
     "name": "stdout",
     "output_type": "stream",
     "text": [
      "Alice\n",
      "20\n",
      "A\n"
     ]
    }
   ],
   "source": [
    "# Iterating through values\n",
    "for value in student.values():\n",
    "    print(value)\n",
    "\n"
   ]
  },
  {
   "cell_type": "code",
   "execution_count": 16,
   "id": "ace4da06",
   "metadata": {},
   "outputs": [
    {
     "name": "stdout",
     "output_type": "stream",
     "text": [
      "name: Alice\n",
      "age: 20\n",
      "grade: A\n"
     ]
    }
   ],
   "source": [
    "# Iterating through key-value pairs\n",
    "for key, value in student.items():\n",
    "    print(f\"{key}: {value}\")\n",
    "\n"
   ]
  },
  {
   "cell_type": "code",
   "execution_count": 17,
   "id": "080fa28c",
   "metadata": {},
   "outputs": [
    {
     "name": "stdout",
     "output_type": "stream",
     "text": [
      "0: name = Alice\n",
      "1: age = 20\n",
      "2: grade = A\n"
     ]
    }
   ],
   "source": [
    "# Using enumerate for index\n",
    "for index, (key, value) in enumerate(student.items()):\n",
    "    print(f\"{index}: {key} = {value}\")"
   ]
  },
  {
   "cell_type": "code",
   "execution_count": null,
   "id": "4eed9c6b",
   "metadata": {},
   "outputs": [
    {
     "name": "stdout",
     "output_type": "stream",
     "text": [
      "student1: Alice\n",
      "  Math: 95\n",
      "  Physics: 87\n",
      "  Chemistry: 89\n",
      "student2: Bob\n",
      "  Math: 78\n",
      "  Chemistry: 92\n"
     ]
    }
   ],
   "source": [
    "\n",
    "\n",
    "## Nested Dictionaries\n",
    "# Creating nested dictionaries\n",
    "students = {\n",
    "    # Example of a nested dictionary\n",
    "    \"student1\": {\n",
    "        \"name\": \"Alice\",\n",
    "        \"age\": 20,\n",
    "        \"subjects\": {\"Math\": 95, \"Physics\": 87}\n",
    "    },\n",
    "    # Example of another nested dictionary\n",
    "    \"student2\": {\n",
    "        \"name\": \"Bob\",\n",
    "        \"age\": 19,\n",
    "        \"subjects\": {\"Math\": 78, \"Chemistry\": 92}\n",
    "    }\n",
    "}\n",
    "\n",
    "# Accessing nested values\n",
    "alice_math_score = students[\"student1\"][\"subjects\"][\"Math\"]  # 95\n",
    "\n",
    "# Adding to nested dictionary\n",
    "students[\"student1\"][\"subjects\"][\"Chemistry\"] = 89\n",
    "\n",
    "# Iterating through nested dictionary\n",
    "for student_id, info in students.items():\n",
    "    print(f\"{student_id}: {info['name']}\")\n",
    "    for subject, score in info[\"subjects\"].items():\n",
    "        print(f\"  {subject}: {score}\")\n",
    "\n"
   ]
  },
  {
   "cell_type": "code",
   "execution_count": 19,
   "id": "5f30457f",
   "metadata": {},
   "outputs": [],
   "source": [
    "\n",
    "# Basic dictionary comprehension\n",
    "squares = {x: x**2 for x in range(1, 6)}\n",
    "# {1: 1, 2: 4, 3: 9, 4: 16, 5: 25}\n",
    "\n",
    "# With condition\n",
    "even_squares = {x: x**2 for x in range(1, 11) if x % 2 == 0}\n",
    "# {2: 4, 4: 16, 6: 36, 8: 64, 10: 100}\n",
    "\n",
    "# From existing dictionary\n",
    "student_scores = {\"Alice\": 85, \"Bob\": 92, \"Charlie\": 78, \"Diana\": 96}\n",
    "passed_students = {name: score for name, score in student_scores.items() if score >= 80}\n",
    "# {'Alice': 85, 'Bob': 92, 'Diana': 96}\n",
    "\n",
    "# Transforming values\n",
    "uppercase_grades = {name: score for name, score in student_scores.items()}\n"
   ]
  },
  {
   "cell_type": "code",
   "execution_count": 20,
   "id": "728ff992",
   "metadata": {},
   "outputs": [
    {
     "name": "stdout",
     "output_type": "stream",
     "text": [
      "{'a': 10, 'b': 2, 'c': 3, 'd': 4, 'e': 5}\n"
     ]
    }
   ],
   "source": [
    "\n",
    "## Dictionary Comprehensions\n",
    "## Advanced Dictionary Operations\n",
    "\n",
    "### Merging Dictionaries\n",
    "\n",
    "dict1 = {\"a\": 1, \"b\": 2}\n",
    "dict2 = {\"c\": 3, \"d\": 4}\n",
    "dict3 = {\"a\": 10, \"e\": 5}  # Note: 'a' key conflicts with dict1\n",
    "\n",
    "# Method 1: Using update()\n",
    "merged = dict1.copy()\n",
    "merged.update(dict2)\n",
    "\n",
    "# Method 2: Using ** operator (Python 3.5+)\n",
    "merged = {**dict1, **dict2, **dict3}  # dict3 values override dict1\n",
    "\n",
    "# Method 3: Using | operator (Python 3.9+)\n",
    "merged = dict1 | dict2 | dict3\n",
    "\n",
    "print(merged)  # {'a': 10, 'b': 2, 'c': 3, 'd': 4, 'e': 5}\n",
    "\n"
   ]
  },
  {
   "cell_type": "code",
   "execution_count": 21,
   "id": "d47131cc",
   "metadata": {},
   "outputs": [
    {
     "name": "stdout",
     "output_type": "stream",
     "text": [
      "{'h': 1, 'e': 1, 'l': 3, 'o': 2, ' ': 1, 'w': 1, 'r': 1, 'd': 1}\n"
     ]
    }
   ],
   "source": [
    "\n",
    "\n",
    "### Dictionary as Counter\n",
    "\n",
    "# Counting occurrences\n",
    "text = \"hello world\"\n",
    "char_count = {}\n",
    "for char in text:\n",
    "    char_count[char] = char_count.get(char, 0) + 1\n",
    "\n",
    "print(char_count)  # {'h': 1, 'e': 1, 'l': 3, 'o': 2, ' ': 1, 'w': 1, 'r': 1, 'd': 1}\n",
    "\n",
    "# Using setdefault\n",
    "char_count = {}\n",
    "for char in text:\n",
    "    char_count.setdefault(char, 0)\n",
    "    char_count[char] += 1\n",
    "\n"
   ]
  },
  {
   "cell_type": "code",
   "execution_count": 22,
   "id": "b33a192a",
   "metadata": {},
   "outputs": [
    {
     "name": "stdout",
     "output_type": "stream",
     "text": [
      "{'Diana': 96, 'Bob': 92, 'Alice': 85, 'Charlie': 78}\n"
     ]
    }
   ],
   "source": [
    "\n",
    "### Sorting Dictionaries\n",
    "\n",
    "student_scores = {\"Alice\": 85, \"Bob\": 92, \"Charlie\": 78, \"Diana\": 96}\n",
    "\n",
    "# Sort by keys\n",
    "sorted_by_keys = dict(sorted(student_scores.items()))\n",
    "\n",
    "# Sort by values\n",
    "sorted_by_values = dict(sorted(student_scores.items(), key=lambda x: x[1]))\n",
    "\n",
    "# Sort by values (descending)\n",
    "sorted_desc = dict(sorted(student_scores.items(), key=lambda x: x[1], reverse=True))\n",
    "\n",
    "print(sorted_desc)  # {'Diana': 96, 'Bob': 92, 'Alice': 85, 'Charlie': 78}\n"
   ]
  },
  {
   "cell_type": "code",
   "execution_count": 23,
   "id": "9121b2e2",
   "metadata": {},
   "outputs": [],
   "source": [
    "\n",
    "\n",
    "## Common Use Cases and Examples\n",
    "\n",
    "### Configuration Settings\n",
    "\n",
    "config = {\n",
    "    \"database\": {\n",
    "        \"host\": \"localhost\",\n",
    "        \"port\": 5432,\n",
    "        \"username\": \"admin\"\n",
    "    },\n",
    "    \"debug\": True,\n",
    "    \"max_connections\": 100\n",
    "}\n",
    "\n",
    "# Accessing nested config\n",
    "db_host = config[\"database\"][\"host\"]\n",
    "\n"
   ]
  },
  {
   "cell_type": "code",
   "execution_count": 24,
   "id": "fd78ab1d",
   "metadata": {},
   "outputs": [
    {
     "name": "stdout",
     "output_type": "stream",
     "text": [
      "55\n"
     ]
    }
   ],
   "source": [
    "\n",
    "### Caching/Memoization\n",
    "\n",
    "# Fibonacci with memoization\n",
    "def fibonacci(n, cache={}):\n",
    "    if n in cache:\n",
    "        return cache[n]\n",
    "    \n",
    "    if n < 2:\n",
    "        cache[n] = n\n",
    "        return n\n",
    "    \n",
    "    cache[n] = fibonacci(n-1, cache) + fibonacci(n-2, cache)\n",
    "    return cache[n]\n",
    "\n",
    "print(fibonacci(10))  # 55\n"
   ]
  },
  {
   "cell_type": "code",
   "execution_count": 25,
   "id": "81242ae0",
   "metadata": {},
   "outputs": [
    {
     "name": "stdout",
     "output_type": "stream",
     "text": [
      "{'A': ['Alice', 'Charlie'], 'B': ['Bob', 'Alice']}\n"
     ]
    }
   ],
   "source": [
    "\n",
    "\n",
    "### Grouping Data\n",
    "\n",
    "students = [\n",
    "    {\"name\": \"Alice\", \"grade\": \"A\", \"subject\": \"Math\"},\n",
    "    {\"name\": \"Bob\", \"grade\": \"B\", \"subject\": \"Math\"},\n",
    "    {\"name\": \"Charlie\", \"grade\": \"A\", \"subject\": \"Physics\"},\n",
    "    {\"name\": \"Alice\", \"grade\": \"B\", \"subject\": \"Physics\"}\n",
    "]\n",
    "\n",
    "# Group by grade\n",
    "by_grade = {}\n",
    "for student in students:\n",
    "    grade = student[\"grade\"]\n",
    "    if grade not in by_grade:\n",
    "        by_grade[grade] = []\n",
    "    by_grade[grade].append(student[\"name\"])\n",
    "\n",
    "print(by_grade)  # {'A': ['Alice', 'Charlie'], 'B': ['Bob', 'Alice']}\n",
    "\n"
   ]
  },
  {
   "cell_type": "markdown",
   "id": "e6323847",
   "metadata": {},
   "source": [
    "\n",
    "## Dictionary vs Other Data Structures\n",
    "\n",
    "| Feature | Dictionary | List | Set | Tuple |\n",
    "|---------|------------|------|-----|-------|\n",
    "| Ordered | Yes (Python 3.7+) | Yes | No | Yes |\n",
    "| Mutable | Yes | Yes | Yes | No |\n",
    "| Duplicates | Values yes, Keys no | Yes | No | Yes |\n",
    "| Access Method | Key | Index | Membership | Index |\n",
    "| Use Case | Key-value mapping | Ordered collection | Unique items | Immutable sequence |\n",
    "\n",
    "## Best Practices"
   ]
  },
  {
   "cell_type": "code",
   "execution_count": null,
   "id": "2ba2edbc",
   "metadata": {},
   "outputs": [
    {
     "name": "stdout",
     "output_type": "stream",
     "text": [
      "{0: 0, 1: 1, 2: 4, 3: 9, 4: 16}\n"
     ]
    }
   ],
   "source": [
    "\n",
    "\n",
    "# 1. **Use meaningful key names**\n",
    "\n",
    "# Good\n",
    "user_profile = {\"username\": \"alice\", \"email\": \"alice@email.com\"}\n",
    "\n",
    "# Avoid\n",
    "data = {\"u\": \"alice\", \"e\": \"alice@email.com\"}\n",
    "\n",
    "# Good\n",
    "squared = {x: x**2 for x in range(5)}\n",
    "\n",
    "# Less pythonic\n",
    "squared = {}\n",
    "for x in range(5):\n",
    "    squared[x] = x**2\n",
    "    \n",
    "print(squared) # {0: 0, 1: 1, 2: 4, 3: 9, 4: 16}\n"
   ]
  },
  {
   "cell_type": "code",
   "execution_count": 31,
   "id": "810edab0",
   "metadata": {},
   "outputs": [
    {
     "name": "stdout",
     "output_type": "stream",
     "text": [
      "defaultdict(<class 'list'>, {'fruits': ['apple'], 'vegetables': ['carrot']})\n"
     ]
    }
   ],
   "source": [
    "\n",
    "# 4. **Consider using collections.defaultdict for grouping**\n",
    "\n",
    "from collections import defaultdict\n",
    "\n",
    "# Automatically creates empty list for new keys\n",
    "groups = defaultdict(list)\n",
    "groups[\"fruits\"].append(\"apple\")\n",
    "groups[\"vegetables\"].append(\"carrot\")\n",
    "\n",
    "print(groups)  # defaultdict(<class 'list'>, {'fruits': ['apple'], 'vegetables': ['carrot']})\n",
    "\n"
   ]
  },
  {
   "cell_type": "code",
   "execution_count": 33,
   "id": "6ea274f0",
   "metadata": {},
   "outputs": [
    {
     "name": "stdout",
     "output_type": "stream",
     "text": [
      "{'a': 1, 'c': 3}\n"
     ]
    }
   ],
   "source": [
    "d = {\"a\": 1, \"b\": 2, \"c\": 3}\n",
    "\n",
    "for key in list(d.keys()):\n",
    "    if key == \"b\":\n",
    "        del d[key]\n",
    "\n",
    "print(d)  # Output: {'a': 1, 'c': 3}\n"
   ]
  },
  {
   "cell_type": "code",
   "execution_count": 35,
   "id": "91d08c28",
   "metadata": {},
   "outputs": [
    {
     "name": "stdout",
     "output_type": "stream",
     "text": [
      "{'apple': 1}\n",
      "{'banana': 1}\n"
     ]
    }
   ],
   "source": [
    "\n",
    "\n",
    "# 2. **Mutable default arguments**\n",
    "\n",
    "# Wrong - default dictionary is shared across calls\n",
    "def add_item(item, inventory={}):\n",
    "    inventory[item] = inventory.get(item, 0) + 1\n",
    "    return inventory\n",
    "\n",
    "# Correct - use None and create new dict\n",
    "def add_item(item, inventory=None):\n",
    "    if inventory is None:\n",
    "        inventory = {}\n",
    "    inventory[item] = inventory.get(item, 0) + 1\n",
    "    return inventory\n",
    "print(add_item(\"apple\"))  # {'apple': 1}\n",
    "print(add_item(\"banana\"))  # {'banana': 1}"
   ]
  },
  {
   "cell_type": "markdown",
   "id": "cd8bf7ba",
   "metadata": {},
   "source": []
  }
 ],
 "metadata": {
  "kernelspec": {
   "display_name": "base",
   "language": "python",
   "name": "python3"
  },
  "language_info": {
   "codemirror_mode": {
    "name": "ipython",
    "version": 3
   },
   "file_extension": ".py",
   "mimetype": "text/x-python",
   "name": "python",
   "nbconvert_exporter": "python",
   "pygments_lexer": "ipython3",
   "version": "3.12.7"
  }
 },
 "nbformat": 4,
 "nbformat_minor": 5
}
