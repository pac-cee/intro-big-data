{
 "cells": [
  {
   "cell_type": "markdown",
   "id": "f9560c58",
   "metadata": {},
   "source": [
    "### Real-Life Applications of Python Dictionaries\n",
    "Dictionaries in Python are versatile and powerful data structures. Here are common scenarios where they shine:\n",
    "\n",
    "#### 1. Contact Management Systems (Phonebooks)\n",
    "Scenario: Storing names and phone numbers.\n",
    "\n",
    "Why dictionary: You can quickly find a phone number by name."
   ]
  },
  {
   "cell_type": "code",
   "execution_count": 5,
   "id": "cb5f2475",
   "metadata": {},
   "outputs": [],
   "source": [
    "contacts = {\n",
    "    \"Alice\": \"0788888888\",\n",
    "    \"Eric\": \"0722222222\"\n",
    "}\n"
   ]
  },
  {
   "cell_type": "markdown",
   "id": "96347ea3",
   "metadata": {},
   "source": [
    "### 2.Student Information Systems\n",
    "Scenario: Each student has attributes like name, age, grade.\n",
    "\n",
    "Why dictionary: Easy to group and retrieve data by field name.\n"
   ]
  },
  {
   "cell_type": "code",
   "execution_count": 6,
   "id": "7ed80b7e",
   "metadata": {},
   "outputs": [],
   "source": [
    "\n",
    "student = {\n",
    "    \"id\": \"S1023\",\n",
    "    \"name\": \"Eric Maniraguha\",\n",
    "    \"age\": 25,\n",
    "    \"grade\": \"A\"\n",
    "}"
   ]
  },
  {
   "cell_type": "markdown",
   "id": "4ffb7a16",
   "metadata": {},
   "source": [
    "### 3. E-Commerce Product Catalog\n",
    "Scenario: Products with properties like price, stock, and description.\n",
    "\n",
    "Why dictionary: Efficient to look up product details by product ID or name."
   ]
  },
  {
   "cell_type": "code",
   "execution_count": 7,
   "id": "dbb76fec",
   "metadata": {},
   "outputs": [],
   "source": [
    "product = {\n",
    "    \"product_id\": \"P1001\",\n",
    "    \"name\": \"Wireless Mouse\",\n",
    "    \"price\": 15.99,\n",
    "    \"in_stock\": True\n",
    "}\n"
   ]
  },
  {
   "cell_type": "markdown",
   "id": "a8c0121f",
   "metadata": {},
   "source": [
    "### 4. Voting Systems / Survey Results\n",
    "Scenario: Counting votes or responses.\n",
    "\n",
    "Why dictionary: Efficient tallying using options as keys."
   ]
  },
  {
   "cell_type": "code",
   "execution_count": 8,
   "id": "8decc652",
   "metadata": {},
   "outputs": [],
   "source": [
    "votes = {\n",
    "    \"Candidate A\": 120,\n",
    "    \"Candidate B\": 95,\n",
    "    \"Candidate C\": 60\n",
    "}\n"
   ]
  },
  {
   "cell_type": "markdown",
   "id": "64132dcd",
   "metadata": {},
   "source": [
    "### 5. Configurations & Settings\n",
    "Scenario: Store user or system settings.\n",
    "\n",
    "Why dictionary: Easy to update, read, and maintain settings."
   ]
  },
  {
   "cell_type": "code",
   "execution_count": 9,
   "id": "b80caef9",
   "metadata": {},
   "outputs": [],
   "source": [
    "settings = {\n",
    "    \"language\": \"English\",\n",
    "    \"notifications\": True,\n",
    "    \"volume\": 80\n",
    "}\n"
   ]
  },
  {
   "cell_type": "markdown",
   "id": "d3ce67e5",
   "metadata": {},
   "source": [
    "### 6. Medical Records\n",
    "Scenario: Each patient has multiple attributes (age, condition, history).\n",
    "\n",
    "Why dictionary: Clear organization of patient data."
   ]
  },
  {
   "cell_type": "code",
   "execution_count": 10,
   "id": "53d24566",
   "metadata": {},
   "outputs": [],
   "source": [
    "patient = {\n",
    "    \"patient_id\": \"P5678\",\n",
    "    \"name\": \"Jean\",\n",
    "    \"diagnosis\": \"Malaria\",\n",
    "    \"age\": 32,\n",
    "    \"history\": [\"Fever\", \"Headache\"]\n",
    "}\n"
   ]
  },
  {
   "cell_type": "markdown",
   "id": "4ebc64be",
   "metadata": {},
   "source": [
    "### 7. Login Systems\n",
    "Scenario: Store usernames and (hashed) passwords.\n",
    "\n",
    "Why dictionary: Enables fast verification of user credentials.\n"
   ]
  },
  {
   "cell_type": "code",
   "execution_count": 11,
   "id": "c4799c91",
   "metadata": {},
   "outputs": [],
   "source": [
    "users = {\n",
    "    \"valensndayisenga\": \"hashed_password_123\",\n",
    "    \"vanny\": \"hashed_password_456\"\n",
    "}\n"
   ]
  },
  {
   "cell_type": "markdown",
   "id": "10fef69c",
   "metadata": {},
   "source": [
    "### 8. Weather Monitoring Systems\n",
    "Scenario: Store weather conditions by city or time.\n",
    "\n",
    "Why dictionary: Easy retrieval of weather by key."
   ]
  },
  {
   "cell_type": "code",
   "execution_count": 12,
   "id": "9d0da526",
   "metadata": {},
   "outputs": [],
   "source": [
    "weather = {\n",
    "    \"Kigali\": {\"temperature\": 25, \"condition\": \"Cloudy\"},\n",
    "    \"Bugesera\": {\"temperature\": 28, \"condition\": \"Sunny\"}\n",
    "}\n"
   ]
  },
  {
   "cell_type": "markdown",
   "id": "e909f6d8",
   "metadata": {},
   "source": [
    "### 9. Translation Apps / Dictionaries\n",
    "Scenario: Word-to-word mapping in different languages.\n",
    "\n",
    "Why dictionary: Direct mapping makes it efficient."
   ]
  },
  {
   "cell_type": "code",
   "execution_count": 13,
   "id": "5eff7f6f",
   "metadata": {},
   "outputs": [],
   "source": [
    "english_to_french = {\n",
    "    \"apple\": \"pomme\",\n",
    "    \"school\": \"école\",\n",
    "    \"book\": \"livre\"\n",
    "}\n"
   ]
  },
  {
   "cell_type": "markdown",
   "id": "31d3628c",
   "metadata": {},
   "source": [
    "### 10. Inventory Systems\n",
    "Scenario: Track stock levels of items in a store or warehouse.\n",
    "\n",
    "Why dictionary: Quick access and updates by item ID."
   ]
  },
  {
   "cell_type": "code",
   "execution_count": 14,
   "id": "d3ff8914",
   "metadata": {},
   "outputs": [],
   "source": [
    "inventory = {\n",
    "    \"milk\": 20,\n",
    "    \"bread\": 15,\n",
    "    \"eggs\": 30\n",
    "}\n"
   ]
  },
  {
   "cell_type": "markdown",
   "id": "f6a1dc67",
   "metadata": {},
   "source": [
    "#### When NOT to Use a Dictionary\n",
    "When order and duplicates are important → `use a list.`\n",
    "\n",
    "When you just need a set of unique values → `use a set.`\n",
    "\n",
    "When you care about fast positional indexing → `use a list or tuple.`"
   ]
  },
  {
   "cell_type": "markdown",
   "id": "545999ce",
   "metadata": {},
   "source": []
  }
 ],
 "metadata": {
  "kernelspec": {
   "display_name": "base",
   "language": "python",
   "name": "python3"
  },
  "language_info": {
   "codemirror_mode": {
    "name": "ipython",
    "version": 3
   },
   "file_extension": ".py",
   "mimetype": "text/x-python",
   "name": "python",
   "nbconvert_exporter": "python",
   "pygments_lexer": "ipython3",
   "version": "3.12.7"
  }
 },
 "nbformat": 4,
 "nbformat_minor": 5
}
