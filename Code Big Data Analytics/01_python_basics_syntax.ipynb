{
 "cells": [
  {
   "cell_type": "markdown",
   "id": "da6a8a9a",
   "metadata": {},
   "source": [
    "### Introduction to Python Syntax and Structure\n",
    "Python is a high-level, readable programming language used for everything from web development to AI. Let’s explore its basic syntax and structure."
   ]
  },
  {
   "cell_type": "markdown",
   "id": "d1a97313",
   "metadata": {},
   "source": [
    "### I. Python Syntax Basics \n",
    "1. Comments \n",
    "2. Variables\n",
    "3. Indentation \n"
   ]
  },
  {
   "cell_type": "code",
   "execution_count": null,
   "id": "20d6296d",
   "metadata": {},
   "outputs": [],
   "source": [
    "# This is a comment"
   ]
  },
  {
   "cell_type": "code",
   "execution_count": null,
   "id": "423a4bfe",
   "metadata": {},
   "outputs": [],
   "source": [
    "#  Print Statement\n",
    "# This line prints a message to the console\n",
    "# It is a simple example of a Python script\n",
    "\n",
    "print(\"Hello, World!\") # This prints \"Hello, World!\" to the consoles\n",
    "print('This is a string') # This prints a string to the console"
   ]
  },
  {
   "cell_type": "code",
   "execution_count": null,
   "id": "44cad26e",
   "metadata": {},
   "outputs": [],
   "source": [
    "'''\n",
    "Print Statement\n",
    "This line prints a message to the console\n",
    "It is a simple example of a Python script\n",
    "\n",
    "'''\n",
    "print(\"This is a multi-line comment example.\")  # This prints a message to the console\n",
    "# This is a single-line comment"
   ]
  },
  {
   "cell_type": "code",
   "execution_count": null,
   "id": "21ce776e",
   "metadata": {},
   "outputs": [],
   "source": [
    "# variables \n",
    "name = \"Didier\"\n",
    "age = 30\n"
   ]
  },
  {
   "cell_type": "code",
   "execution_count": null,
   "id": "da5d4f3c",
   "metadata": {},
   "outputs": [],
   "source": [
    "#  Data Types\n",
    "\n",
    "text = \"Hello\"       # str\n",
    "number = 10          # int \n",
    "price = 9.99         # float or decimal ==> Numeric \n",
    "flag = True          # bool\n"
   ]
  },
  {
   "cell_type": "code",
   "execution_count": null,
   "id": "4ca0f4b3",
   "metadata": {},
   "outputs": [],
   "source": [
    "z1 = 3 + 4j # This is a complex number\n",
    "z2 = 1 - 2j # This is another complex number\n",
    "\n",
    "# Addition\n",
    "sum_z = z1 + z2\n",
    "\n",
    "# Multiplication\n",
    "product_z = z1 * z2\n",
    "\n",
    "# Display results\n",
    "print(\"z1:\", z1)\n",
    "print(\"z2:\", z2)\n",
    "print(\"Sum:\", sum_z)\n",
    "print(\"Product:\", product_z)\n",
    "\n",
    "# Real and imaginary parts\n",
    "print(\"Real part of z1:\", z1.real) # This prints the real part of z1\n",
    "print(\"Imaginary part of z1:\", z1.imag) # This prints the imaginary part of z1\n",
    "# Complex conjugate\n",
    "print(\"Conjugate of z1:\", z1.conjugate())  # This prints the complex conjugate of z1\n"
   ]
  },
  {
   "cell_type": "markdown",
   "id": "300f074e",
   "metadata": {},
   "source": [
    "### II. Indentation\n",
    "Python uses indentation (usually 4 spaces) to define blocks of code."
   ]
  },
  {
   "cell_type": "code",
   "execution_count": null,
   "id": "92d9a626",
   "metadata": {},
   "outputs": [],
   "source": [
    "def greet_and_check_age(name, age):\n",
    "    # Personalized greeting\n",
    "    if name == \"Didier\":\n",
    "        print(\"Hello, Didier!\")\n",
    "    else:\n",
    "        print(f\"Hello, {name}!\")\n",
    "\n",
    "    # Age classification\n",
    "    if age >= 18:\n",
    "        print(\"You are an adult.\")\n",
    "    else:\n",
    "        print(\"You are a minor.\")\n",
    "        \n",
    "# Call the function with variables\n",
    "greet_and_check_age(\"Diane\", 22)"
   ]
  },
  {
   "cell_type": "markdown",
   "id": "1d1bf002",
   "metadata": {},
   "source": [
    "### III. Concatenation in Python \n",
    "means joining two or more strings together."
   ]
  },
  {
   "cell_type": "code",
   "execution_count": null,
   "id": "d8f52849",
   "metadata": {},
   "outputs": [],
   "source": [
    "first_name = \"Didier\"\n",
    "last_name = \"Maniraguha\"\n",
    "full_name = first_name + \" \" + last_name\n",
    "print(full_name)\n"
   ]
  },
  {
   "cell_type": "markdown",
   "id": "b5d71227",
   "metadata": {},
   "source": [
    "a. Using += Operator"
   ]
  },
  {
   "cell_type": "code",
   "execution_count": null,
   "id": "46595a54",
   "metadata": {},
   "outputs": [],
   "source": [
    "message = \"Introduction to Big Data Analytics course\"\n",
    "message += \" has been completed successfully.\"\n",
    "message += \"\\nThank you for your participation!\" # endline \n",
    "print(message)\n"
   ]
  },
  {
   "cell_type": "markdown",
   "id": "74e0353d",
   "metadata": {},
   "source": [
    "b.  Using f-Strings (Preferred for readability)"
   ]
  },
  {
   "cell_type": "code",
   "execution_count": null,
   "id": "5cc2d814",
   "metadata": {},
   "outputs": [],
   "source": [
    "name = \"today's class\"\n",
    "greeting = f\"Hello, {name}!\"\n",
    "print(greeting)\n"
   ]
  },
  {
   "cell_type": "markdown",
   "id": "36b642ff",
   "metadata": {},
   "source": [
    "c. Using .join() Method"
   ]
  },
  {
   "cell_type": "code",
   "execution_count": null,
   "id": "1566fc46",
   "metadata": {},
   "outputs": [],
   "source": [
    "words = [\"Data\", \"Science\", \"is\", \"fun\"] # List of words\n",
    "sentence = \" \".join(words)\n",
    "print(sentence)"
   ]
  },
  {
   "cell_type": "code",
   "execution_count": null,
   "id": "73627fdc",
   "metadata": {},
   "outputs": [],
   "source": [
    "\n",
    "# Using a dictionary to store student information\n",
    "student_info = {\n",
    "    \"name\": \"Didier\",   \n",
    "    \"age\": 30,\n",
    "    \"course\": \"Big Data Analytics\",\n",
    "    \"completed\": True\n",
    "}\n",
    "\n",
    "# Accessing dictionary values\n",
    "print(\"Student Name:\", student_info[\"name\"])\n",
    "print(\"Course Completed:\", student_info[\"completed\"])\n"
   ]
  },
  {
   "cell_type": "markdown",
   "id": "51320ecf",
   "metadata": {},
   "source": [
    "c. Using format() Method"
   ]
  },
  {
   "cell_type": "code",
   "execution_count": null,
   "id": "577eaa20",
   "metadata": {},
   "outputs": [],
   "source": [
    "name = \"Didier\"\n",
    "age = 30\n",
    "# Using the format method to create a formatted string \n",
    "info = \"My name is {} and I am {} years old.\".format(name, age)\n",
    "print(info)\n"
   ]
  },
  {
   "cell_type": "markdown",
   "id": "c05ff039",
   "metadata": {},
   "source": [
    "### IV. Condition "
   ]
  },
  {
   "cell_type": "code",
   "execution_count": 32,
   "id": "83f8fb4b",
   "metadata": {},
   "outputs": [
    {
     "name": "stdout",
     "output_type": "stream",
     "text": [
      "You are an adult.\n"
     ]
    }
   ],
   "source": [
    "def greet_and_check_age(name, age):\n",
    "    if name == \"Didier\":\n",
    "        print(\"Hello, Didier!\")  # Greet if the name is Didier\n",
    "\n",
    "    if age >= 18:\n",
    "        print(\"You are an adult.\")  # Age 18 or older\n",
    "    else:\n",
    "        print(\"You are a minor.\")  # Age less than 18\n",
    "\n",
    "# Get user input\n",
    "user_name = input(\"Enter your name: \")\n",
    "user_age = int(input(\"Enter your age: \"))  # Convert string to integer\n",
    "\n",
    "# Call the function with user input\n",
    "greet_and_check_age(user_name, user_age)\n"
   ]
  },
  {
   "cell_type": "code",
   "execution_count": null,
   "id": "548d1cde",
   "metadata": {},
   "outputs": [],
   "source": [
    "def greet_user(name):\n",
    "    \n",
    "    \"\"\"Function to greet the user. - with formated string\"\"\"\n",
    "    print(f\"Hello, {name}!\")  # This prints a greeting message with the user's name\n",
    "    \n",
    "greet_user(\"Kaka Patrick\")  # Call the function to greet the user"
   ]
  },
  {
   "cell_type": "markdown",
   "id": "5a3fb615",
   "metadata": {},
   "source": [
    "What is for `pass` is a placeholder that tells Python, “do nothing for now.” It's often used when you’re planning to fill in the code later."
   ]
  },
  {
   "cell_type": "code",
   "execution_count": null,
   "id": "f7426435",
   "metadata": {},
   "outputs": [],
   "source": [
    "def name(args): \n",
    " pass # This is a placeholder function that does nothing\n",
    "name = \"Alice\"\n",
    "print(\"Name:\", name) \n",
    "\n"
   ]
  },
  {
   "cell_type": "code",
   "execution_count": null,
   "id": "00574b77",
   "metadata": {},
   "outputs": [],
   "source": [
    "# This function does not return anything\n",
    "def add_numbers(a, b):\n",
    "    \"\"\"Function to add two numbers.\"\"\"\n",
    "    return a + b  # This returns the sum of a and b\n",
    "  \n",
    "result = add_numbers(5, 10)  # Call the function to add two numbers\n",
    "print(\"Result of addition:\", result)  # This prints the result of the addition"
   ]
  },
  {
   "cell_type": "markdown",
   "id": "d5282a78",
   "metadata": {},
   "source": [
    "### 2. Lopps "
   ]
  },
  {
   "cell_type": "code",
   "execution_count": 35,
   "id": "1500ea91",
   "metadata": {},
   "outputs": [
    {
     "name": "stdout",
     "output_type": "stream",
     "text": [
      "0\n",
      "1\n",
      "2\n",
      "3\n",
      "4\n"
     ]
    }
   ],
   "source": [
    "# Loops\n",
    "# This is a for loop that iterates over a range of numbers\n",
    "for i in range(5):\n",
    "    print(i)  # Prints numbers from 0 to 4"
   ]
  },
  {
   "cell_type": "code",
   "execution_count": null,
   "id": "21630d06",
   "metadata": {},
   "outputs": [],
   "source": [
    "# Loops\n",
    "# This is a for loop that iterates over a range of numbers\n",
    "count = 0\n",
    "while count < 5:\n",
    "    print(count)\n",
    "    count += 1  # Increment count"
   ]
  },
  {
   "cell_type": "code",
   "execution_count": 37,
   "id": "e4e0d9e0",
   "metadata": {},
   "outputs": [
    {
     "name": "stdout",
     "output_type": "stream",
     "text": [
      "You entered 'yes', continuing...\n",
      "You entered 'yes', continuing...\n",
      "You entered 'yes', continuing...\n",
      "You entered 'yes', continuing...\n"
     ]
    }
   ],
   "source": [
    "while True:\n",
    "    # Code block that runs at least once\n",
    "    user_input = input(\"Enter 'yes' to continue: \")\n",
    "\n",
    "    if user_input != 'yes':\n",
    "        break\n",
    "    \n",
    "    print(\"You entered 'yes', continuing...\")\n"
   ]
  },
  {
   "cell_type": "code",
   "execution_count": null,
   "id": "70e57966",
   "metadata": {},
   "outputs": [],
   "source": [
    "# functions\n",
    "# This function takes a name as an argument and returns a greeting message\n",
    "def greet(name): # name is a parameter\n",
    "    \"\"\"Return a greeting message.\"\"\"\n",
    "    return f\"Hello, {name}!\"\n"
   ]
  },
  {
   "cell_type": "code",
   "execution_count": null,
   "id": "12783f2b",
   "metadata": {},
   "outputs": [],
   "source": [
    "# Calling the function with an argument\n",
    "print(greet(\"Alice\"))  # Output: Hello, Alice!"
   ]
  },
  {
   "cell_type": "code",
   "execution_count": null,
   "id": "aa6a6df6",
   "metadata": {},
   "outputs": [],
   "source": [
    " # This code prompts the user for their name and prints a welcome message\n",
    "user_name = input(\"Enter your name: \")\n",
    "# Printing a input message\n",
    "print(f\"Welcome, {user_name}!\")\n"
   ]
  },
  {
   "cell_type": "markdown",
   "id": "0af0dfcd",
   "metadata": {},
   "source": [
    "3: Loop through characters in a string"
   ]
  },
  {
   "cell_type": "code",
   "execution_count": 38,
   "id": "36ee37d2",
   "metadata": {},
   "outputs": [
    {
     "name": "stdout",
     "output_type": "stream",
     "text": [
      "h\n",
      "e\n",
      "l\n",
      "l\n",
      "o\n"
     ]
    }
   ],
   "source": [
    "for letter in \"hello\":\n",
    "    print(letter)\n"
   ]
  },
  {
   "cell_type": "code",
   "execution_count": 39,
   "id": "e87fbe33",
   "metadata": {},
   "outputs": [
    {
     "name": "stdout",
     "output_type": "stream",
     "text": [
      "0 is even\n",
      "2 is even\n",
      "4 is even\n",
      "6 is even\n",
      "8 is even\n"
     ]
    }
   ],
   "source": [
    "# This code iterates through a range of numbers and prints even numbers\n",
    "for i in range(10):\n",
    "    if i % 2 == 0:\n",
    "        print(f\"{i} is even\")\n"
   ]
  },
  {
   "cell_type": "code",
   "execution_count": 40,
   "id": "b0953583",
   "metadata": {},
   "outputs": [
    {
     "name": "stdout",
     "output_type": "stream",
     "text": [
      "[0, 1, 2, 3, 4, 5, 6, 7, 8, 9]\n"
     ]
    }
   ],
   "source": [
    "num  = list(range(10))  \n",
    "\n",
    "print (num)"
   ]
  },
  {
   "cell_type": "code",
   "execution_count": 41,
   "id": "c600a54b",
   "metadata": {},
   "outputs": [
    {
     "name": "stdout",
     "output_type": "stream",
     "text": [
      "Hello from outer function!\n",
      "Hello from inner function!\n"
     ]
    }
   ],
   "source": [
    "def outer():\n",
    "    print(\"Hello from outer function!\")\n",
    "    def inner():\n",
    "        print(\"Hello from inner function!\")\n",
    "    inner()  # Calling inner function inside outer function\n",
    "\n",
    "outer()\n",
    "# Output: Hello from inner function!\n"
   ]
  },
  {
   "cell_type": "code",
   "execution_count": null,
   "id": "2771f1e5",
   "metadata": {},
   "outputs": [],
   "source": [
    "def outer():\n",
    "    def inner():\n",
    "        print(\"Hello from inner function!\")\n",
    "    return inner\n",
    "\n",
    "# Get the inner function\n",
    "my_func = outer()  # This does NOT call inner(), it just returns the function\n",
    "my_func()  #This calls inner()\n"
   ]
  },
  {
   "cell_type": "code",
   "execution_count": null,
   "id": "db269c3a",
   "metadata": {},
   "outputs": [],
   "source": [
    "def outer_function(x):\n",
    "    def inner_function(y):\n",
    "        return y * 2\n",
    "    result = inner_function(x) + 3 \n",
    "    return result\n",
    "\n",
    "print(outer_function(5))  # Output: 13\n"
   ]
  },
  {
   "cell_type": "markdown",
   "id": "7a2553ad",
   "metadata": {},
   "source": [
    "### Class & Object"
   ]
  },
  {
   "cell_type": "code",
   "execution_count": null,
   "id": "e1cc7190",
   "metadata": {},
   "outputs": [
    {
     "name": "stdout",
     "output_type": "stream",
     "text": [
      "<__main__.Person object at 0x000001AECA5BED20>\n",
      "30\n"
     ]
    }
   ],
   "source": [
    "# Define a class\n",
    "class Person:\n",
    "    def __init__(self, name, age):\n",
    "        # initialize attributes\n",
    "        self.name = name\n",
    "        self.age = age\n",
    "\n",
    "    def greet(self):\n",
    "        # method logic\n",
    "        print(f\"Hello, my name is {self.name} and I am {self.age} years old.\")\n",
    "# Create an instance of the class\n",
    "person1 = Person(\"Alice\", 30)  # Create an instance of the Person class \n",
    "\n",
    "print(person1)  # Access the name attribute\n",
    "print(person1.age)   # Access the age attribute"
   ]
  },
  {
   "cell_type": "code",
   "execution_count": null,
   "id": "d50e1165",
   "metadata": {},
   "outputs": [],
   "source": [
    "class Person:\n",
    "    def __init__(self, name, age): # This is the constructor method\n",
    "        \"\"\"Initialize the Person object with name and age.\"\"\"\n",
    "        self.name = name\n",
    "        self.age = age\n",
    "\n",
    "    def greet(self):\n",
    "        print(f\"Hello, my name is {self.name} and I am {self.age} years old.\")\n",
    "\n",
    "# This method returns a string representation of the object\n",
    "    def __str__(self):\n",
    "        return f\"Person(name={self.name}, age={self.age})\"\n",
    "\n",
    "# Create an instance of the class\n",
    "person1 = Person(\"Alice\", 30)  # Create an instance of the Person class\n",
    "\n",
    "# Call the greet method\n",
    "person1.greet()  # Output: Hello, my name is Alice and I am 30 years old. \n",
    "\n",
    "# Print the string representation of the object\n",
    "print(person1)  # Output: Person(name=Alice, age=30)"
   ]
  },
  {
   "cell_type": "code",
   "execution_count": null,
   "id": "e782fd74",
   "metadata": {},
   "outputs": [],
   "source": [
    "class Person:\n",
    "    def __init__(self, name, age):  # Constructor method\n",
    "        self.name = name\n",
    "        self.age = age\n",
    "\n",
    "    def greet(self):\n",
    "        print(f\"Hello, my name is {self.name} and I am {self.age} years old.\")\n"
   ]
  },
  {
   "cell_type": "markdown",
   "id": "d79a0cc8",
   "metadata": {},
   "source": [
    "### Object "
   ]
  },
  {
   "cell_type": "code",
   "execution_count": null,
   "id": "d924d559",
   "metadata": {},
   "outputs": [],
   "source": [
    "# Creating objects\n",
    "person1 = Person(\"Didier\", 30)\n",
    "person2 = Person(\"Kalisa\", 25)\n",
    "\n",
    "# Calling methods\n",
    "person1.greet()   # Output: Hello, my name is Didier and I am 30 years old.\n",
    "person2.greet()   # Output: Hello, my name is Kalisa and I am 25 years old.\n"
   ]
  },
  {
   "cell_type": "code",
   "execution_count": null,
   "id": "a67b1a76",
   "metadata": {},
   "outputs": [],
   "source": [
    "class Computer:\n",
    "  def config(self): # every machine has configuration     \n",
    "    print(\"i5, 16GB, 1TB SSD\") # This prints the configuration of the computer\n",
    "    \n",
    "# Creating an object of the Computer class\n",
    "comp1 = Computer()  # This creates an instance of the Computer class\n",
    "# Calling the config method on the object\n",
    "comp1.config()  # This calls the config method of the Computer class, which prints the configuration\n",
    "\n",
    "Computer().config()  # This calls the config method of the Computer class without creating an object\n",
    "\n",
    "a = 10\n",
    "b = '20'\n",
    "print(type (a))\n",
    "print(type (b))\n",
    "print(type (comp1))\n",
    "print(type (Computer))  # This prints the type of the Computer class\n",
    "\n",
    "    "
   ]
  },
  {
   "cell_type": "code",
   "execution_count": 43,
   "id": "0cf72efe",
   "metadata": {},
   "outputs": [
    {
     "name": "stdout",
     "output_type": "stream",
     "text": [
      "1010101010\n"
     ]
    }
   ],
   "source": [
    "x = \"10\"\n",
    "y = 5\n",
    "print(x * y)\n"
   ]
  },
  {
   "cell_type": "markdown",
   "id": "6dc97d84",
   "metadata": {},
   "source": [
    "\n",
    "####  Exercise: Even or Odd Checker\n",
    "\n",
    "```python\n",
    "# Task:\n",
    "# Write a Python program that asks the user to input 5 numbers.\n",
    "# For each number entered, check whether it is even or odd.\n",
    "# Print a message showing the number and whether it is even or odd.\n",
    "\n",
    "# Example:\n",
    "# Enter a number: 3\n",
    "# 3 is odd\n",
    "# Enter a number: 8\n",
    "# 8 is even\n",
    "# ...\n",
    "\n",
    "#  Hint:\n",
    "# - Use a for loop to repeat the input 5 times\n",
    "# - Use input() to read the user's number\n",
    "# - Use int() to convert input to integer\n",
    "# - Use the modulo operator (%) to check if a number is even or odd\n",
    "\n",
    "# Your code starts below:\n",
    "```\n"
   ]
  },
  {
   "cell_type": "code",
   "execution_count": null,
   "id": "0fb400b7",
   "metadata": {},
   "outputs": [],
   "source": [
    "\n",
    "\n",
    "# Solution: Even or Odd Checker\n",
    "def check_even_odd(num):\n",
    "    if num % 2 == 0:\n",
    "        return f\"{num} is even\"\n",
    "    else:\n",
    "        return f\"{num} is odd\"\n",
    "\n",
    "for i in range(5):\n",
    "    num = int(input(\"Enter a number: \"))\n",
    "    print(check_even_odd(num))\n",
    "    \n",
    "\n"
   ]
  },
  {
   "cell_type": "markdown",
   "id": "0497e5cd",
   "metadata": {},
   "source": []
  },
  {
   "cell_type": "markdown",
   "id": "5d183da1",
   "metadata": {},
   "source": [
    "### What you should Do After Learning Python Basics\n",
    "\n",
    "As students become more confident with the **basics of Python and OOP**, they should focus on deepening their understanding through the following topics and practices:\n",
    "\n",
    "---\n",
    "\n",
    "## 1. Encapsulation\n",
    "- Understand the use of **private (`_`, `__`)**, **protected**, and **public** attributes.\n",
    "- Practice using getter and setter methods to control access to class attributes.\n",
    "- **Exercise:** Create a class with sensitive data and secure it using encapsulation.\n",
    "\n",
    "## 2. Abstraction\n",
    "- Learn how to **hide internal implementation** using **abstract base classes** (`abc` module).\n",
    "- Understand how interfaces define structure without exposing implementation.\n",
    "- **Exercise:** Create an abstract class and implement it in multiple subclasses.\n",
    "\n",
    "## 3. Inheritance\n",
    "- Learn how to **reuse and extend** functionality of parent classes.\n",
    "- Understand `super()` to call parent methods.\n",
    "- Practice **single** and **multiple inheritance**.\n",
    "- **Exercise:** Model a class hierarchy (e.g., Animal → Dog, Cat).\n",
    "\n",
    "## 4. Polymorphism\n",
    "- Implement methods with the **same name in different classes** that behave differently.\n",
    "- Use **method overriding** and **duck typing**.\n",
    "- **Exercise:** Write a function that can accept different object types and call the same method.\n",
    "\n",
    "## 5. Real-World System Modeling\n",
    "- Apply OOP principles to simulate real-life systems such as:\n",
    "  - Library Management System\n",
    "  - Hospital Patient Record System\n",
    "  - Banking System\n",
    "- **Project idea:** Build a CLI app that mimics a library with users, books, and transactions.\n",
    "\n",
    "## 6. Exception Handling in OOP\n",
    "- Learn to use `try`, `except`, `finally`, and raise custom exceptions.\n",
    "- Build **resilient classes** that handle incorrect usage or data.\n",
    "- **Exercise:** Create a class that validates data and raises errors when input is invalid.\n",
    "\n",
    "## 7. Intro to Design Patterns\n",
    "- Get familiar with common OOP design patterns such as:\n",
    "  - **Singleton** – Ensures only one instance exists.\n",
    "  - **Factory** – Creates objects based on input parameters.\n",
    "  - **Observer** – Notifies other objects when a state changes.\n",
    "- **Exercise:** Implement a simple Singleton or Factory pattern using Python classes.\n",
    "\n",
    "---\n",
    "\n",
    "## Additional Skills to Practice\n",
    "- Unit testing with `unittest` or `pytest` for class behavior.\n",
    "- Basic UML diagramming to design class relationships.\n",
    "- Using type hints and docstrings for clean, readable code.\n",
    "\n",
    "---\n",
    "\n",
    "*Let me know if you want a printable checklist or project-based tasks added!*\n"
   ]
  }
 ],
 "metadata": {
  "kernelspec": {
   "display_name": "base",
   "language": "python",
   "name": "python3"
  },
  "language_info": {
   "codemirror_mode": {
    "name": "ipython",
    "version": 3
   },
   "file_extension": ".py",
   "mimetype": "text/x-python",
   "name": "python",
   "nbconvert_exporter": "python",
   "pygments_lexer": "ipython3",
   "version": "3.12.7"
  }
 },
 "nbformat": 4,
 "nbformat_minor": 5
}
