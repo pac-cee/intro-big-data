{
 "cells": [
  {
   "cell_type": "markdown",
   "metadata": {},
   "source": [
    "# Movie Data Analysis\n",
    "\n",
    "This notebook contains a simple analysis of a movie dataset."
   ]
  },
  {
   "cell_type": "code",
   "execution_count": null,
   "metadata": {},
   "source": [
    "# Import required libraries\n",
    "import pandas as pd\n",
    "import matplotlib.pyplot as plt\n",
    "import os\n",
    "\n",
    "# Create data directory if it doesn't exist\n",
    "os.makedirs('data', exist_ok=True)\n",
    "\n",
    "# Create sample dataset\n",
    "data = {\n",
    "    'title': ['The Shawshank Redemption', 'The Godfather', 'The Dark Knight', 'Pulp Fiction'],\n",
    "    'year': [1994, 1972, 2008, 1994],\n",
    "    'genre': ['Drama', 'Crime', 'Action', 'Crime'],\n",
    "    'rating': [9.3, 9.2, 9.0, 8.9],\n",
    "    'votes': [2600000, 1800000, 2500000, 2000000]\n",
    "}\n",
    "\n",
    "# Create DataFrame and save to CSV\n",
    "df = pd.DataFrame(data)\n",
    "df.to_csv('data/movies.csv', index=False)\n",
    "\n",
    "# Display the first few rows\n",
    "print(\"Dataset preview:\")\n",
    "display(df.head())"
   ]
  },
  {
   "cell_type": "code",
   "execution_count": null,
   "metadata": {},
   "source": [
    "# Task 1: Basic information\n",
    "print(\"\\nDataset info:\")\n",
    "print(df.info())\n",
    "print(\"\\nDataset description:\")\n",
    "display(df.describe())"
   ]
  },
  {
   "cell_type": "code",
   "execution_count": null,
   "metadata": {},
   "source": [
    "# Task 2: Average rating\n",
    "average_rating = df['rating'].mean()\n",
    "print(f\"Average rating: {average_rating:.2f}\")"
   ]
  },
  {
   "cell_type": "code",
   "execution_count": null,
   "metadata": {},
   "source": [
    "# Task 3: Most common genre\n",
    "most_common_genre = df['genre'].mode()[0]\n",
    "print(f\"Most common genre: {most_common_genre}\")"
   ]
  },
  {
   "cell_type": "code",
   "execution_count": null,
   "metadata": {},
   "source": [
    "# Task 4: Add decade column\n",
    "df['decade'] = (df['year'] // 10) * 10\n",
    "print(\"\\nDataset with decade column:\")\n",
    "display(df)"
   ]
  },
  {
   "cell_type": "code",
   "execution_count": null,
   "metadata": {},
   "source": [
    "# Task 5: Simple visualization\n",
    "plt.figure(figsize=(10, 5))\n",
    "plt.bar(df['title'], df['rating'], color='skyblue')\n",
    "plt.title('Movie Ratings')\n",
    "plt.xlabel('Movie')\n",
    "plt.ylabel('Rating')\n",
    "plt.xticks(rotation=45, ha='right')\n",
    "plt.tight_layout()\n",
    "plt.show()"
   ]
  },
  {
   "cell_type": "markdown",
   "metadata": {},
   "source": [
    "## Next Steps\n",
    "1. Try loading a larger dataset from Kaggle\n",
    "2. Explore more pandas functions\n",
    "3. Create more complex visualizations\n",
    "4. Add more analysis (e.g., correlation between votes and ratings)"
   ]
  }
 ],
 "metadata": {
  "kernelspec": {
   "display_name": "Python 3",
   "language": "python",
   "name": "python3"
  },
  "language_info": {
   "codemirror_mode": {
    "name": "ipython",
    "version": 3
   },
   "file_extension": ".py",
   "mimetype": "text/x-python",
   "name": "python",
   "nbconvert_exporter": "python",
   "pygments_lexer": "ipython3",
   "version": "3.9.0"
  }
 },
 "nbformat": 4,
 "nbformat_minor": 4
}
